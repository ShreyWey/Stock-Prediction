{
  "nbformat": 4,
  "nbformat_minor": 0,
  "metadata": {
    "colab": {
      "provenance": [],
      "include_colab_link": true
    },
    "kernelspec": {
      "name": "python3",
      "display_name": "Python 3"
    },
    "language_info": {
      "name": "python"
    },
    "widgets": {
      "application/vnd.jupyter.widget-state+json": {
        "3f63f6c9080f4fd38841f05d635b091b": {
          "model_module": "@jupyter-widgets/controls",
          "model_name": "TextModel",
          "model_module_version": "1.5.0",
          "state": {
            "_dom_classes": [],
            "_model_module": "@jupyter-widgets/controls",
            "_model_module_version": "1.5.0",
            "_model_name": "TextModel",
            "_view_count": null,
            "_view_module": "@jupyter-widgets/controls",
            "_view_module_version": "1.5.0",
            "_view_name": "TextView",
            "continuous_update": true,
            "description": "Company Name:",
            "description_tooltip": null,
            "disabled": false,
            "layout": "IPY_MODEL_af1d275d61374f9590568c5a2e0f1951",
            "placeholder": "Enter company ticker",
            "style": "IPY_MODEL_62351f93d2c54d6fbfbd8288d9dcddee",
            "value": "AAPL"
          }
        },
        "af1d275d61374f9590568c5a2e0f1951": {
          "model_module": "@jupyter-widgets/base",
          "model_name": "LayoutModel",
          "model_module_version": "1.2.0",
          "state": {
            "_model_module": "@jupyter-widgets/base",
            "_model_module_version": "1.2.0",
            "_model_name": "LayoutModel",
            "_view_count": null,
            "_view_module": "@jupyter-widgets/base",
            "_view_module_version": "1.2.0",
            "_view_name": "LayoutView",
            "align_content": null,
            "align_items": null,
            "align_self": null,
            "border": null,
            "bottom": null,
            "display": null,
            "flex": null,
            "flex_flow": null,
            "grid_area": null,
            "grid_auto_columns": null,
            "grid_auto_flow": null,
            "grid_auto_rows": null,
            "grid_column": null,
            "grid_gap": null,
            "grid_row": null,
            "grid_template_areas": null,
            "grid_template_columns": null,
            "grid_template_rows": null,
            "height": null,
            "justify_content": null,
            "justify_items": null,
            "left": null,
            "margin": null,
            "max_height": null,
            "max_width": null,
            "min_height": null,
            "min_width": null,
            "object_fit": null,
            "object_position": null,
            "order": null,
            "overflow": null,
            "overflow_x": null,
            "overflow_y": null,
            "padding": null,
            "right": null,
            "top": null,
            "visibility": null,
            "width": null
          }
        },
        "62351f93d2c54d6fbfbd8288d9dcddee": {
          "model_module": "@jupyter-widgets/controls",
          "model_name": "DescriptionStyleModel",
          "model_module_version": "1.5.0",
          "state": {
            "_model_module": "@jupyter-widgets/controls",
            "_model_module_version": "1.5.0",
            "_model_name": "DescriptionStyleModel",
            "_view_count": null,
            "_view_module": "@jupyter-widgets/base",
            "_view_module_version": "1.2.0",
            "_view_name": "StyleView",
            "description_width": ""
          }
        },
        "e5739f5dad3e48d1ab2f7dd7d00aceb8": {
          "model_module": "@jupyter-widgets/controls",
          "model_name": "DatePickerModel",
          "model_module_version": "1.5.0",
          "state": {
            "_dom_classes": [],
            "_model_module": "@jupyter-widgets/controls",
            "_model_module_version": "1.5.0",
            "_model_name": "DatePickerModel",
            "_view_count": null,
            "_view_module": "@jupyter-widgets/controls",
            "_view_module_version": "1.5.0",
            "_view_name": "DatePickerView",
            "description": "Start Date:",
            "description_tooltip": null,
            "disabled": false,
            "layout": "IPY_MODEL_4579b538bbf44092a83d2b5ded5dae9c",
            "style": "IPY_MODEL_344963478fd547a499f8008df2a33b8e",
            "value": {
              "year": 2014,
              "month": 7,
              "date": 11
            }
          }
        },
        "4579b538bbf44092a83d2b5ded5dae9c": {
          "model_module": "@jupyter-widgets/base",
          "model_name": "LayoutModel",
          "model_module_version": "1.2.0",
          "state": {
            "_model_module": "@jupyter-widgets/base",
            "_model_module_version": "1.2.0",
            "_model_name": "LayoutModel",
            "_view_count": null,
            "_view_module": "@jupyter-widgets/base",
            "_view_module_version": "1.2.0",
            "_view_name": "LayoutView",
            "align_content": null,
            "align_items": null,
            "align_self": null,
            "border": null,
            "bottom": null,
            "display": null,
            "flex": null,
            "flex_flow": null,
            "grid_area": null,
            "grid_auto_columns": null,
            "grid_auto_flow": null,
            "grid_auto_rows": null,
            "grid_column": null,
            "grid_gap": null,
            "grid_row": null,
            "grid_template_areas": null,
            "grid_template_columns": null,
            "grid_template_rows": null,
            "height": null,
            "justify_content": null,
            "justify_items": null,
            "left": null,
            "margin": null,
            "max_height": null,
            "max_width": null,
            "min_height": null,
            "min_width": null,
            "object_fit": null,
            "object_position": null,
            "order": null,
            "overflow": null,
            "overflow_x": null,
            "overflow_y": null,
            "padding": null,
            "right": null,
            "top": null,
            "visibility": null,
            "width": null
          }
        },
        "344963478fd547a499f8008df2a33b8e": {
          "model_module": "@jupyter-widgets/controls",
          "model_name": "DescriptionStyleModel",
          "model_module_version": "1.5.0",
          "state": {
            "_model_module": "@jupyter-widgets/controls",
            "_model_module_version": "1.5.0",
            "_model_name": "DescriptionStyleModel",
            "_view_count": null,
            "_view_module": "@jupyter-widgets/base",
            "_view_module_version": "1.2.0",
            "_view_name": "StyleView",
            "description_width": ""
          }
        },
        "651e279e08bf47a4b034bc5a425cc9b2": {
          "model_module": "@jupyter-widgets/controls",
          "model_name": "DatePickerModel",
          "model_module_version": "1.5.0",
          "state": {
            "_dom_classes": [],
            "_model_module": "@jupyter-widgets/controls",
            "_model_module_version": "1.5.0",
            "_model_name": "DatePickerModel",
            "_view_count": null,
            "_view_module": "@jupyter-widgets/controls",
            "_view_module_version": "1.5.0",
            "_view_name": "DatePickerView",
            "description": "End Date:",
            "description_tooltip": null,
            "disabled": false,
            "layout": "IPY_MODEL_5b4a59d1325c4fb4834a002b4f6baa5e",
            "style": "IPY_MODEL_5188fef16175406bb3b36a0f755262db",
            "value": {
              "year": 2024,
              "month": 8,
              "date": 10
            }
          }
        },
        "5b4a59d1325c4fb4834a002b4f6baa5e": {
          "model_module": "@jupyter-widgets/base",
          "model_name": "LayoutModel",
          "model_module_version": "1.2.0",
          "state": {
            "_model_module": "@jupyter-widgets/base",
            "_model_module_version": "1.2.0",
            "_model_name": "LayoutModel",
            "_view_count": null,
            "_view_module": "@jupyter-widgets/base",
            "_view_module_version": "1.2.0",
            "_view_name": "LayoutView",
            "align_content": null,
            "align_items": null,
            "align_self": null,
            "border": null,
            "bottom": null,
            "display": null,
            "flex": null,
            "flex_flow": null,
            "grid_area": null,
            "grid_auto_columns": null,
            "grid_auto_flow": null,
            "grid_auto_rows": null,
            "grid_column": null,
            "grid_gap": null,
            "grid_row": null,
            "grid_template_areas": null,
            "grid_template_columns": null,
            "grid_template_rows": null,
            "height": null,
            "justify_content": null,
            "justify_items": null,
            "left": null,
            "margin": null,
            "max_height": null,
            "max_width": null,
            "min_height": null,
            "min_width": null,
            "object_fit": null,
            "object_position": null,
            "order": null,
            "overflow": null,
            "overflow_x": null,
            "overflow_y": null,
            "padding": null,
            "right": null,
            "top": null,
            "visibility": null,
            "width": null
          }
        },
        "5188fef16175406bb3b36a0f755262db": {
          "model_module": "@jupyter-widgets/controls",
          "model_name": "DescriptionStyleModel",
          "model_module_version": "1.5.0",
          "state": {
            "_model_module": "@jupyter-widgets/controls",
            "_model_module_version": "1.5.0",
            "_model_name": "DescriptionStyleModel",
            "_view_count": null,
            "_view_module": "@jupyter-widgets/base",
            "_view_module_version": "1.2.0",
            "_view_name": "StyleView",
            "description_width": ""
          }
        },
        "2313a9ab9bae43f69a61bcef53e20885": {
          "model_module": "@jupyter-widgets/controls",
          "model_name": "ButtonModel",
          "model_module_version": "1.5.0",
          "state": {
            "_dom_classes": [],
            "_model_module": "@jupyter-widgets/controls",
            "_model_module_version": "1.5.0",
            "_model_name": "ButtonModel",
            "_view_count": null,
            "_view_module": "@jupyter-widgets/controls",
            "_view_module_version": "1.5.0",
            "_view_name": "ButtonView",
            "button_style": "",
            "description": "Submit",
            "disabled": false,
            "icon": "",
            "layout": "IPY_MODEL_5c2e99eecb5f459381a584fc4df95dfd",
            "style": "IPY_MODEL_25db06cf33114099b3f1a41d8d1a75ff",
            "tooltip": ""
          }
        },
        "5c2e99eecb5f459381a584fc4df95dfd": {
          "model_module": "@jupyter-widgets/base",
          "model_name": "LayoutModel",
          "model_module_version": "1.2.0",
          "state": {
            "_model_module": "@jupyter-widgets/base",
            "_model_module_version": "1.2.0",
            "_model_name": "LayoutModel",
            "_view_count": null,
            "_view_module": "@jupyter-widgets/base",
            "_view_module_version": "1.2.0",
            "_view_name": "LayoutView",
            "align_content": null,
            "align_items": null,
            "align_self": null,
            "border": null,
            "bottom": null,
            "display": null,
            "flex": null,
            "flex_flow": null,
            "grid_area": null,
            "grid_auto_columns": null,
            "grid_auto_flow": null,
            "grid_auto_rows": null,
            "grid_column": null,
            "grid_gap": null,
            "grid_row": null,
            "grid_template_areas": null,
            "grid_template_columns": null,
            "grid_template_rows": null,
            "height": null,
            "justify_content": null,
            "justify_items": null,
            "left": null,
            "margin": null,
            "max_height": null,
            "max_width": null,
            "min_height": null,
            "min_width": null,
            "object_fit": null,
            "object_position": null,
            "order": null,
            "overflow": null,
            "overflow_x": null,
            "overflow_y": null,
            "padding": null,
            "right": null,
            "top": null,
            "visibility": null,
            "width": null
          }
        },
        "25db06cf33114099b3f1a41d8d1a75ff": {
          "model_module": "@jupyter-widgets/controls",
          "model_name": "ButtonStyleModel",
          "model_module_version": "1.5.0",
          "state": {
            "_model_module": "@jupyter-widgets/controls",
            "_model_module_version": "1.5.0",
            "_model_name": "ButtonStyleModel",
            "_view_count": null,
            "_view_module": "@jupyter-widgets/base",
            "_view_module_version": "1.2.0",
            "_view_name": "StyleView",
            "button_color": null,
            "font_weight": ""
          }
        }
      }
    }
  },
  "cells": [
    {
      "cell_type": "markdown",
      "metadata": {
        "id": "view-in-github",
        "colab_type": "text"
      },
      "source": [
        "<a href=\"https://colab.research.google.com/github/ShreyWey/Stock-Prediction/blob/main/StockPrediction.ipynb\" target=\"_parent\"><img src=\"https://colab.research.google.com/assets/colab-badge.svg\" alt=\"Open In Colab\"/></a>"
      ]
    },
    {
      "cell_type": "code",
      "source": [
        "import ipywidgets as widgets\n",
        "from IPython.display import display\n",
        "import datetime\n",
        "import yfinance as yf\n",
        "\n",
        "company_name = widgets.Text(description=\"Company Name:\", placeholder=\"Enter company ticker\")\n",
        "start_date = widgets.DatePicker(description='Start Date:', value=datetime.date.today())\n",
        "end_date = widgets.DatePicker(description='End Date:', value=datetime.date.today())\n",
        "\n",
        "submit_button = widgets.Button(description=\"Submit\")\n",
        "\n",
        "display(company_name, start_date, end_date, submit_button)\n",
        "\n",
        "def on_button_click(b):\n",
        "    company = company_name.value\n",
        "    start = start_date.value.strftime('%Y-%m-%d')  # Convert to 'YYYY-MM-DD' string format\n",
        "    end = end_date.value.strftime('%Y-%m-%d')      # Convert to 'YYYY-MM-DD' string format\n",
        "\n",
        "    print(f\"Fetching data for {company} from {start} to {end}...\")\n",
        "\n",
        "    stock_data = yf.download(company, start=start, end=end)\n",
        "\n",
        "submit_button.on_click(on_button_click)\n"
      ],
      "metadata": {
        "id": "-mUPolZszGxp",
        "outputId": "28725a1a-b82f-4a39-e868-d52963b1a00e",
        "colab": {
          "base_uri": "https://localhost:8080/",
          "height": 176,
          "referenced_widgets": [
            "3f63f6c9080f4fd38841f05d635b091b",
            "af1d275d61374f9590568c5a2e0f1951",
            "62351f93d2c54d6fbfbd8288d9dcddee",
            "e5739f5dad3e48d1ab2f7dd7d00aceb8",
            "4579b538bbf44092a83d2b5ded5dae9c",
            "344963478fd547a499f8008df2a33b8e",
            "651e279e08bf47a4b034bc5a425cc9b2",
            "5b4a59d1325c4fb4834a002b4f6baa5e",
            "5188fef16175406bb3b36a0f755262db",
            "2313a9ab9bae43f69a61bcef53e20885",
            "5c2e99eecb5f459381a584fc4df95dfd",
            "25db06cf33114099b3f1a41d8d1a75ff"
          ]
        }
      },
      "execution_count": 2,
      "outputs": [
        {
          "output_type": "display_data",
          "data": {
            "text/plain": [
              "Text(value='', description='Company Name:', placeholder='Enter company ticker')"
            ],
            "application/vnd.jupyter.widget-view+json": {
              "version_major": 2,
              "version_minor": 0,
              "model_id": "3f63f6c9080f4fd38841f05d635b091b"
            }
          },
          "metadata": {}
        },
        {
          "output_type": "display_data",
          "data": {
            "text/plain": [
              "DatePicker(value=datetime.date(2024, 9, 13), description='Start Date:')"
            ],
            "application/vnd.jupyter.widget-view+json": {
              "version_major": 2,
              "version_minor": 0,
              "model_id": "e5739f5dad3e48d1ab2f7dd7d00aceb8"
            }
          },
          "metadata": {}
        },
        {
          "output_type": "display_data",
          "data": {
            "text/plain": [
              "DatePicker(value=datetime.date(2024, 9, 13), description='End Date:')"
            ],
            "application/vnd.jupyter.widget-view+json": {
              "version_major": 2,
              "version_minor": 0,
              "model_id": "651e279e08bf47a4b034bc5a425cc9b2"
            }
          },
          "metadata": {}
        },
        {
          "output_type": "display_data",
          "data": {
            "text/plain": [
              "Button(description='Submit', style=ButtonStyle())"
            ],
            "application/vnd.jupyter.widget-view+json": {
              "version_major": 2,
              "version_minor": 0,
              "model_id": "2313a9ab9bae43f69a61bcef53e20885"
            }
          },
          "metadata": {}
        },
        {
          "output_type": "stream",
          "name": "stdout",
          "text": [
            "Fetching data for AAPL from 2014-08-11 to 2024-09-10...\n"
          ]
        },
        {
          "output_type": "stream",
          "name": "stderr",
          "text": [
            "\r[*********************100%***********************]  1 of 1 completed\n"
          ]
        }
      ]
    },
    {
      "cell_type": "code",
      "source": [
        "import yfinance as yf\n",
        "\n",
        "stock_data = yf.download(company_name.value, start_date.value, end_date.value)\n",
        "stock_data"
      ],
      "metadata": {
        "colab": {
          "base_uri": "https://localhost:8080/",
          "height": 472
        },
        "id": "W1ysuknEH6wu",
        "outputId": "6a49afe9-6593-4ccf-a739-917171ea458f"
      },
      "execution_count": 3,
      "outputs": [
        {
          "output_type": "stream",
          "name": "stderr",
          "text": [
            "\r[*********************100%***********************]  1 of 1 completed\n"
          ]
        },
        {
          "output_type": "execute_result",
          "data": {
            "text/plain": [
              "                  Open        High         Low       Close   Adj Close  \\\n",
              "Date                                                                     \n",
              "2014-08-11   23.817499   24.020000   23.709999   23.997499   21.307558   \n",
              "2014-08-12   24.010000   24.219999   23.902500   23.992500   21.303116   \n",
              "2014-08-13   24.037500   24.309999   24.010000   24.309999   21.585026   \n",
              "2014-08-14   24.332500   24.392500   24.200001   24.375000   21.642742   \n",
              "2014-08-15   24.475000   24.547501   24.215000   24.495001   21.749289   \n",
              "...                ...         ...         ...         ...         ...   \n",
              "2024-09-03  228.550003  229.000000  221.169998  222.770004  222.770004   \n",
              "2024-09-04  221.660004  221.779999  217.479996  220.850006  220.850006   \n",
              "2024-09-05  221.630005  225.479996  221.520004  222.380005  222.380005   \n",
              "2024-09-06  223.949997  225.240005  219.770004  220.820007  220.820007   \n",
              "2024-09-09  220.820007  221.270004  216.710007  220.910004  220.910004   \n",
              "\n",
              "               Volume  \n",
              "Date                   \n",
              "2014-08-11  146340000  \n",
              "2014-08-12  135180000  \n",
              "2014-08-13  127664000  \n",
              "2014-08-14  112464000  \n",
              "2014-08-15  195804000  \n",
              "...               ...  \n",
              "2024-09-03   50190600  \n",
              "2024-09-04   43840200  \n",
              "2024-09-05   36615400  \n",
              "2024-09-06   48423000  \n",
              "2024-09-09   67180000  \n",
              "\n",
              "[2537 rows x 6 columns]"
            ],
            "text/html": [
              "\n",
              "  <div id=\"df-b73f98e1-1ab6-486b-a227-d737525c07b2\" class=\"colab-df-container\">\n",
              "    <div>\n",
              "<style scoped>\n",
              "    .dataframe tbody tr th:only-of-type {\n",
              "        vertical-align: middle;\n",
              "    }\n",
              "\n",
              "    .dataframe tbody tr th {\n",
              "        vertical-align: top;\n",
              "    }\n",
              "\n",
              "    .dataframe thead th {\n",
              "        text-align: right;\n",
              "    }\n",
              "</style>\n",
              "<table border=\"1\" class=\"dataframe\">\n",
              "  <thead>\n",
              "    <tr style=\"text-align: right;\">\n",
              "      <th></th>\n",
              "      <th>Open</th>\n",
              "      <th>High</th>\n",
              "      <th>Low</th>\n",
              "      <th>Close</th>\n",
              "      <th>Adj Close</th>\n",
              "      <th>Volume</th>\n",
              "    </tr>\n",
              "    <tr>\n",
              "      <th>Date</th>\n",
              "      <th></th>\n",
              "      <th></th>\n",
              "      <th></th>\n",
              "      <th></th>\n",
              "      <th></th>\n",
              "      <th></th>\n",
              "    </tr>\n",
              "  </thead>\n",
              "  <tbody>\n",
              "    <tr>\n",
              "      <th>2014-08-11</th>\n",
              "      <td>23.817499</td>\n",
              "      <td>24.020000</td>\n",
              "      <td>23.709999</td>\n",
              "      <td>23.997499</td>\n",
              "      <td>21.307558</td>\n",
              "      <td>146340000</td>\n",
              "    </tr>\n",
              "    <tr>\n",
              "      <th>2014-08-12</th>\n",
              "      <td>24.010000</td>\n",
              "      <td>24.219999</td>\n",
              "      <td>23.902500</td>\n",
              "      <td>23.992500</td>\n",
              "      <td>21.303116</td>\n",
              "      <td>135180000</td>\n",
              "    </tr>\n",
              "    <tr>\n",
              "      <th>2014-08-13</th>\n",
              "      <td>24.037500</td>\n",
              "      <td>24.309999</td>\n",
              "      <td>24.010000</td>\n",
              "      <td>24.309999</td>\n",
              "      <td>21.585026</td>\n",
              "      <td>127664000</td>\n",
              "    </tr>\n",
              "    <tr>\n",
              "      <th>2014-08-14</th>\n",
              "      <td>24.332500</td>\n",
              "      <td>24.392500</td>\n",
              "      <td>24.200001</td>\n",
              "      <td>24.375000</td>\n",
              "      <td>21.642742</td>\n",
              "      <td>112464000</td>\n",
              "    </tr>\n",
              "    <tr>\n",
              "      <th>2014-08-15</th>\n",
              "      <td>24.475000</td>\n",
              "      <td>24.547501</td>\n",
              "      <td>24.215000</td>\n",
              "      <td>24.495001</td>\n",
              "      <td>21.749289</td>\n",
              "      <td>195804000</td>\n",
              "    </tr>\n",
              "    <tr>\n",
              "      <th>...</th>\n",
              "      <td>...</td>\n",
              "      <td>...</td>\n",
              "      <td>...</td>\n",
              "      <td>...</td>\n",
              "      <td>...</td>\n",
              "      <td>...</td>\n",
              "    </tr>\n",
              "    <tr>\n",
              "      <th>2024-09-03</th>\n",
              "      <td>228.550003</td>\n",
              "      <td>229.000000</td>\n",
              "      <td>221.169998</td>\n",
              "      <td>222.770004</td>\n",
              "      <td>222.770004</td>\n",
              "      <td>50190600</td>\n",
              "    </tr>\n",
              "    <tr>\n",
              "      <th>2024-09-04</th>\n",
              "      <td>221.660004</td>\n",
              "      <td>221.779999</td>\n",
              "      <td>217.479996</td>\n",
              "      <td>220.850006</td>\n",
              "      <td>220.850006</td>\n",
              "      <td>43840200</td>\n",
              "    </tr>\n",
              "    <tr>\n",
              "      <th>2024-09-05</th>\n",
              "      <td>221.630005</td>\n",
              "      <td>225.479996</td>\n",
              "      <td>221.520004</td>\n",
              "      <td>222.380005</td>\n",
              "      <td>222.380005</td>\n",
              "      <td>36615400</td>\n",
              "    </tr>\n",
              "    <tr>\n",
              "      <th>2024-09-06</th>\n",
              "      <td>223.949997</td>\n",
              "      <td>225.240005</td>\n",
              "      <td>219.770004</td>\n",
              "      <td>220.820007</td>\n",
              "      <td>220.820007</td>\n",
              "      <td>48423000</td>\n",
              "    </tr>\n",
              "    <tr>\n",
              "      <th>2024-09-09</th>\n",
              "      <td>220.820007</td>\n",
              "      <td>221.270004</td>\n",
              "      <td>216.710007</td>\n",
              "      <td>220.910004</td>\n",
              "      <td>220.910004</td>\n",
              "      <td>67180000</td>\n",
              "    </tr>\n",
              "  </tbody>\n",
              "</table>\n",
              "<p>2537 rows × 6 columns</p>\n",
              "</div>\n",
              "    <div class=\"colab-df-buttons\">\n",
              "\n",
              "  <div class=\"colab-df-container\">\n",
              "    <button class=\"colab-df-convert\" onclick=\"convertToInteractive('df-b73f98e1-1ab6-486b-a227-d737525c07b2')\"\n",
              "            title=\"Convert this dataframe to an interactive table.\"\n",
              "            style=\"display:none;\">\n",
              "\n",
              "  <svg xmlns=\"http://www.w3.org/2000/svg\" height=\"24px\" viewBox=\"0 -960 960 960\">\n",
              "    <path d=\"M120-120v-720h720v720H120Zm60-500h600v-160H180v160Zm220 220h160v-160H400v160Zm0 220h160v-160H400v160ZM180-400h160v-160H180v160Zm440 0h160v-160H620v160ZM180-180h160v-160H180v160Zm440 0h160v-160H620v160Z\"/>\n",
              "  </svg>\n",
              "    </button>\n",
              "\n",
              "  <style>\n",
              "    .colab-df-container {\n",
              "      display:flex;\n",
              "      gap: 12px;\n",
              "    }\n",
              "\n",
              "    .colab-df-convert {\n",
              "      background-color: #E8F0FE;\n",
              "      border: none;\n",
              "      border-radius: 50%;\n",
              "      cursor: pointer;\n",
              "      display: none;\n",
              "      fill: #1967D2;\n",
              "      height: 32px;\n",
              "      padding: 0 0 0 0;\n",
              "      width: 32px;\n",
              "    }\n",
              "\n",
              "    .colab-df-convert:hover {\n",
              "      background-color: #E2EBFA;\n",
              "      box-shadow: 0px 1px 2px rgba(60, 64, 67, 0.3), 0px 1px 3px 1px rgba(60, 64, 67, 0.15);\n",
              "      fill: #174EA6;\n",
              "    }\n",
              "\n",
              "    .colab-df-buttons div {\n",
              "      margin-bottom: 4px;\n",
              "    }\n",
              "\n",
              "    [theme=dark] .colab-df-convert {\n",
              "      background-color: #3B4455;\n",
              "      fill: #D2E3FC;\n",
              "    }\n",
              "\n",
              "    [theme=dark] .colab-df-convert:hover {\n",
              "      background-color: #434B5C;\n",
              "      box-shadow: 0px 1px 3px 1px rgba(0, 0, 0, 0.15);\n",
              "      filter: drop-shadow(0px 1px 2px rgba(0, 0, 0, 0.3));\n",
              "      fill: #FFFFFF;\n",
              "    }\n",
              "  </style>\n",
              "\n",
              "    <script>\n",
              "      const buttonEl =\n",
              "        document.querySelector('#df-b73f98e1-1ab6-486b-a227-d737525c07b2 button.colab-df-convert');\n",
              "      buttonEl.style.display =\n",
              "        google.colab.kernel.accessAllowed ? 'block' : 'none';\n",
              "\n",
              "      async function convertToInteractive(key) {\n",
              "        const element = document.querySelector('#df-b73f98e1-1ab6-486b-a227-d737525c07b2');\n",
              "        const dataTable =\n",
              "          await google.colab.kernel.invokeFunction('convertToInteractive',\n",
              "                                                    [key], {});\n",
              "        if (!dataTable) return;\n",
              "\n",
              "        const docLinkHtml = 'Like what you see? Visit the ' +\n",
              "          '<a target=\"_blank\" href=https://colab.research.google.com/notebooks/data_table.ipynb>data table notebook</a>'\n",
              "          + ' to learn more about interactive tables.';\n",
              "        element.innerHTML = '';\n",
              "        dataTable['output_type'] = 'display_data';\n",
              "        await google.colab.output.renderOutput(dataTable, element);\n",
              "        const docLink = document.createElement('div');\n",
              "        docLink.innerHTML = docLinkHtml;\n",
              "        element.appendChild(docLink);\n",
              "      }\n",
              "    </script>\n",
              "  </div>\n",
              "\n",
              "\n",
              "<div id=\"df-6e9df1eb-42f7-4db2-a41d-44fcd7d2cd07\">\n",
              "  <button class=\"colab-df-quickchart\" onclick=\"quickchart('df-6e9df1eb-42f7-4db2-a41d-44fcd7d2cd07')\"\n",
              "            title=\"Suggest charts\"\n",
              "            style=\"display:none;\">\n",
              "\n",
              "<svg xmlns=\"http://www.w3.org/2000/svg\" height=\"24px\"viewBox=\"0 0 24 24\"\n",
              "     width=\"24px\">\n",
              "    <g>\n",
              "        <path d=\"M19 3H5c-1.1 0-2 .9-2 2v14c0 1.1.9 2 2 2h14c1.1 0 2-.9 2-2V5c0-1.1-.9-2-2-2zM9 17H7v-7h2v7zm4 0h-2V7h2v10zm4 0h-2v-4h2v4z\"/>\n",
              "    </g>\n",
              "</svg>\n",
              "  </button>\n",
              "\n",
              "<style>\n",
              "  .colab-df-quickchart {\n",
              "      --bg-color: #E8F0FE;\n",
              "      --fill-color: #1967D2;\n",
              "      --hover-bg-color: #E2EBFA;\n",
              "      --hover-fill-color: #174EA6;\n",
              "      --disabled-fill-color: #AAA;\n",
              "      --disabled-bg-color: #DDD;\n",
              "  }\n",
              "\n",
              "  [theme=dark] .colab-df-quickchart {\n",
              "      --bg-color: #3B4455;\n",
              "      --fill-color: #D2E3FC;\n",
              "      --hover-bg-color: #434B5C;\n",
              "      --hover-fill-color: #FFFFFF;\n",
              "      --disabled-bg-color: #3B4455;\n",
              "      --disabled-fill-color: #666;\n",
              "  }\n",
              "\n",
              "  .colab-df-quickchart {\n",
              "    background-color: var(--bg-color);\n",
              "    border: none;\n",
              "    border-radius: 50%;\n",
              "    cursor: pointer;\n",
              "    display: none;\n",
              "    fill: var(--fill-color);\n",
              "    height: 32px;\n",
              "    padding: 0;\n",
              "    width: 32px;\n",
              "  }\n",
              "\n",
              "  .colab-df-quickchart:hover {\n",
              "    background-color: var(--hover-bg-color);\n",
              "    box-shadow: 0 1px 2px rgba(60, 64, 67, 0.3), 0 1px 3px 1px rgba(60, 64, 67, 0.15);\n",
              "    fill: var(--button-hover-fill-color);\n",
              "  }\n",
              "\n",
              "  .colab-df-quickchart-complete:disabled,\n",
              "  .colab-df-quickchart-complete:disabled:hover {\n",
              "    background-color: var(--disabled-bg-color);\n",
              "    fill: var(--disabled-fill-color);\n",
              "    box-shadow: none;\n",
              "  }\n",
              "\n",
              "  .colab-df-spinner {\n",
              "    border: 2px solid var(--fill-color);\n",
              "    border-color: transparent;\n",
              "    border-bottom-color: var(--fill-color);\n",
              "    animation:\n",
              "      spin 1s steps(1) infinite;\n",
              "  }\n",
              "\n",
              "  @keyframes spin {\n",
              "    0% {\n",
              "      border-color: transparent;\n",
              "      border-bottom-color: var(--fill-color);\n",
              "      border-left-color: var(--fill-color);\n",
              "    }\n",
              "    20% {\n",
              "      border-color: transparent;\n",
              "      border-left-color: var(--fill-color);\n",
              "      border-top-color: var(--fill-color);\n",
              "    }\n",
              "    30% {\n",
              "      border-color: transparent;\n",
              "      border-left-color: var(--fill-color);\n",
              "      border-top-color: var(--fill-color);\n",
              "      border-right-color: var(--fill-color);\n",
              "    }\n",
              "    40% {\n",
              "      border-color: transparent;\n",
              "      border-right-color: var(--fill-color);\n",
              "      border-top-color: var(--fill-color);\n",
              "    }\n",
              "    60% {\n",
              "      border-color: transparent;\n",
              "      border-right-color: var(--fill-color);\n",
              "    }\n",
              "    80% {\n",
              "      border-color: transparent;\n",
              "      border-right-color: var(--fill-color);\n",
              "      border-bottom-color: var(--fill-color);\n",
              "    }\n",
              "    90% {\n",
              "      border-color: transparent;\n",
              "      border-bottom-color: var(--fill-color);\n",
              "    }\n",
              "  }\n",
              "</style>\n",
              "\n",
              "  <script>\n",
              "    async function quickchart(key) {\n",
              "      const quickchartButtonEl =\n",
              "        document.querySelector('#' + key + ' button');\n",
              "      quickchartButtonEl.disabled = true;  // To prevent multiple clicks.\n",
              "      quickchartButtonEl.classList.add('colab-df-spinner');\n",
              "      try {\n",
              "        const charts = await google.colab.kernel.invokeFunction(\n",
              "            'suggestCharts', [key], {});\n",
              "      } catch (error) {\n",
              "        console.error('Error during call to suggestCharts:', error);\n",
              "      }\n",
              "      quickchartButtonEl.classList.remove('colab-df-spinner');\n",
              "      quickchartButtonEl.classList.add('colab-df-quickchart-complete');\n",
              "    }\n",
              "    (() => {\n",
              "      let quickchartButtonEl =\n",
              "        document.querySelector('#df-6e9df1eb-42f7-4db2-a41d-44fcd7d2cd07 button');\n",
              "      quickchartButtonEl.style.display =\n",
              "        google.colab.kernel.accessAllowed ? 'block' : 'none';\n",
              "    })();\n",
              "  </script>\n",
              "</div>\n",
              "\n",
              "  <div id=\"id_bf430553-d26d-4481-abed-ce1b7faf661e\">\n",
              "    <style>\n",
              "      .colab-df-generate {\n",
              "        background-color: #E8F0FE;\n",
              "        border: none;\n",
              "        border-radius: 50%;\n",
              "        cursor: pointer;\n",
              "        display: none;\n",
              "        fill: #1967D2;\n",
              "        height: 32px;\n",
              "        padding: 0 0 0 0;\n",
              "        width: 32px;\n",
              "      }\n",
              "\n",
              "      .colab-df-generate:hover {\n",
              "        background-color: #E2EBFA;\n",
              "        box-shadow: 0px 1px 2px rgba(60, 64, 67, 0.3), 0px 1px 3px 1px rgba(60, 64, 67, 0.15);\n",
              "        fill: #174EA6;\n",
              "      }\n",
              "\n",
              "      [theme=dark] .colab-df-generate {\n",
              "        background-color: #3B4455;\n",
              "        fill: #D2E3FC;\n",
              "      }\n",
              "\n",
              "      [theme=dark] .colab-df-generate:hover {\n",
              "        background-color: #434B5C;\n",
              "        box-shadow: 0px 1px 3px 1px rgba(0, 0, 0, 0.15);\n",
              "        filter: drop-shadow(0px 1px 2px rgba(0, 0, 0, 0.3));\n",
              "        fill: #FFFFFF;\n",
              "      }\n",
              "    </style>\n",
              "    <button class=\"colab-df-generate\" onclick=\"generateWithVariable('stock_data')\"\n",
              "            title=\"Generate code using this dataframe.\"\n",
              "            style=\"display:none;\">\n",
              "\n",
              "  <svg xmlns=\"http://www.w3.org/2000/svg\" height=\"24px\"viewBox=\"0 0 24 24\"\n",
              "       width=\"24px\">\n",
              "    <path d=\"M7,19H8.4L18.45,9,17,7.55,7,17.6ZM5,21V16.75L18.45,3.32a2,2,0,0,1,2.83,0l1.4,1.43a1.91,1.91,0,0,1,.58,1.4,1.91,1.91,0,0,1-.58,1.4L9.25,21ZM18.45,9,17,7.55Zm-12,3A5.31,5.31,0,0,0,4.9,8.1,5.31,5.31,0,0,0,1,6.5,5.31,5.31,0,0,0,4.9,4.9,5.31,5.31,0,0,0,6.5,1,5.31,5.31,0,0,0,8.1,4.9,5.31,5.31,0,0,0,12,6.5,5.46,5.46,0,0,0,6.5,12Z\"/>\n",
              "  </svg>\n",
              "    </button>\n",
              "    <script>\n",
              "      (() => {\n",
              "      const buttonEl =\n",
              "        document.querySelector('#id_bf430553-d26d-4481-abed-ce1b7faf661e button.colab-df-generate');\n",
              "      buttonEl.style.display =\n",
              "        google.colab.kernel.accessAllowed ? 'block' : 'none';\n",
              "\n",
              "      buttonEl.onclick = () => {\n",
              "        google.colab.notebook.generateWithVariable('stock_data');\n",
              "      }\n",
              "      })();\n",
              "    </script>\n",
              "  </div>\n",
              "\n",
              "    </div>\n",
              "  </div>\n"
            ],
            "application/vnd.google.colaboratory.intrinsic+json": {
              "type": "dataframe",
              "variable_name": "stock_data",
              "summary": "{\n  \"name\": \"stock_data\",\n  \"rows\": 2537,\n  \"fields\": [\n    {\n      \"column\": \"Date\",\n      \"properties\": {\n        \"dtype\": \"date\",\n        \"min\": \"2014-08-11 00:00:00\",\n        \"max\": \"2024-09-09 00:00:00\",\n        \"num_unique_values\": 2537,\n        \"samples\": [\n          \"2020-12-29 00:00:00\",\n          \"2015-04-20 00:00:00\",\n          \"2016-06-13 00:00:00\"\n        ],\n        \"semantic_type\": \"\",\n        \"description\": \"\"\n      }\n    },\n    {\n      \"column\": \"Open\",\n      \"properties\": {\n        \"dtype\": \"number\",\n        \"std\": 61.407469143781604,\n        \"min\": 22.5,\n        \"max\": 236.47999572753906,\n        \"num_unique_values\": 2391,\n        \"samples\": [\n          52.38750076293945,\n          32.46500015258789,\n          214.69000244140625\n        ],\n        \"semantic_type\": \"\",\n        \"description\": \"\"\n      }\n    },\n    {\n      \"column\": \"High\",\n      \"properties\": {\n        \"dtype\": \"number\",\n        \"std\": 62.070230711875084,\n        \"min\": 22.917499542236328,\n        \"max\": 237.22999572753906,\n        \"num_unique_values\": 2388,\n        \"samples\": [\n          28.674999237060547,\n          168.7100067138672,\n          120.97000122070312\n        ],\n        \"semantic_type\": \"\",\n        \"description\": \"\"\n      }\n    },\n    {\n      \"column\": \"Low\",\n      \"properties\": {\n        \"dtype\": \"number\",\n        \"std\": 60.78535638256746,\n        \"min\": 22.36750030517578,\n        \"max\": 233.08999633789062,\n        \"num_unique_values\": 2410,\n        \"samples\": [\n          124.76000213623047,\n          170.75999450683594,\n          147.8000030517578\n        ],\n        \"semantic_type\": \"\",\n        \"description\": \"\"\n      }\n    },\n    {\n      \"column\": \"Close\",\n      \"properties\": {\n        \"dtype\": \"number\",\n        \"std\": 61.454715458731805,\n        \"min\": 22.584999084472656,\n        \"max\": 234.82000732421875,\n        \"num_unique_values\": 2387,\n        \"samples\": [\n          150.58999633789062,\n          47.64500045776367,\n          48.70249938964844\n        ],\n        \"semantic_type\": \"\",\n        \"description\": \"\"\n      }\n    },\n    {\n      \"column\": \"Adj Close\",\n      \"properties\": {\n        \"dtype\": \"number\",\n        \"std\": 61.92242126867439,\n        \"min\": 20.72003173828125,\n        \"max\": 234.54852294921875,\n        \"num_unique_values\": 2498,\n        \"samples\": [\n          184.10140991210938,\n          162.05577087402344,\n          41.17890548706055\n        ],\n        \"semantic_type\": \"\",\n        \"description\": \"\"\n      }\n    },\n    {\n      \"column\": \"Volume\",\n      \"properties\": {\n        \"dtype\": \"number\",\n        \"std\": 71779392,\n        \"min\": 24048300,\n        \"max\": 759385200,\n        \"num_unique_values\": 2530,\n        \"samples\": [\n          59302900,\n          85250900,\n          178532800\n        ],\n        \"semantic_type\": \"\",\n        \"description\": \"\"\n      }\n    }\n  ]\n}"
            }
          },
          "metadata": {},
          "execution_count": 3
        }
      ]
    },
    {
      "cell_type": "code",
      "source": [
        "from sklearn.preprocessing import MinMaxScaler\n",
        "\n",
        "scaler = MinMaxScaler(feature_range=(0, 1))\n",
        "scaled_data = scaler.fit_transform(stock_data['Close'].values.reshape(-1,1))"
      ],
      "metadata": {
        "id": "7cKrqCzQIss8"
      },
      "execution_count": 4,
      "outputs": []
    },
    {
      "cell_type": "code",
      "source": [
        "import numpy as np\n",
        "\n",
        "def create_dataset(data, time_step):\n",
        "    X, y = [], []\n",
        "    for i in range(len(data) - time_step - 1):\n",
        "        X.append(data[i:(i + time_step), 0])\n",
        "        y.append(data[i + time_step, 0])\n",
        "    return np.array(X), np.array(y)"
      ],
      "metadata": {
        "id": "fV89a3_SIxkf"
      },
      "execution_count": 5,
      "outputs": []
    },
    {
      "cell_type": "code",
      "source": [
        "time_step = 100\n",
        "X, y = create_dataset(scaled_data, time_step)\n",
        "\n",
        "train_size=0.8\n",
        "X_train, X_test = X[:int(X.shape[0]*train_size)], X[int(X.shape[0]*train_size):]\n",
        "y_train, y_test = y[:int(y.shape[0]*train_size)], y[int(y.shape[0]*train_size):]"
      ],
      "metadata": {
        "id": "en5ZWrAJI0ma"
      },
      "execution_count": 6,
      "outputs": []
    },
    {
      "cell_type": "code",
      "source": [
        "from keras.models import Sequential\n",
        "from keras.layers import LSTM, Dense\n",
        "\n",
        "model = Sequential()\n",
        "model.add(LSTM(units=64, return_sequences=True, input_shape=(time_step, 1)))\n",
        "model.add(LSTM(units=64))\n",
        "model.add(Dense(units=64))\n",
        "model.add(Dense(units=1))"
      ],
      "metadata": {
        "id": "kAHxBHelI5nd",
        "colab": {
          "base_uri": "https://localhost:8080/",
          "height": 0
        },
        "outputId": "8deb7a2c-5845-4489-9df7-91ce46cf82cd"
      },
      "execution_count": 7,
      "outputs": [
        {
          "output_type": "stream",
          "name": "stderr",
          "text": [
            "/usr/local/lib/python3.10/dist-packages/keras/src/layers/rnn/rnn.py:204: UserWarning: Do not pass an `input_shape`/`input_dim` argument to a layer. When using Sequential models, prefer using an `Input(shape)` object as the first layer in the model instead.\n",
            "  super().__init__(**kwargs)\n"
          ]
        }
      ]
    },
    {
      "cell_type": "code",
      "source": [
        "model.compile(optimizer='adam', loss='mean_squared_error')\n",
        "model.fit(X_train, y_train, epochs=10, batch_size=64)"
      ],
      "metadata": {
        "colab": {
          "base_uri": "https://localhost:8080/",
          "height": 0
        },
        "id": "YBJB-r1tI9us",
        "outputId": "26581f12-bc6a-4389-85cb-1279f18d4723"
      },
      "execution_count": 8,
      "outputs": [
        {
          "output_type": "stream",
          "name": "stdout",
          "text": [
            "Epoch 1/10\n",
            "\u001b[1m31/31\u001b[0m \u001b[32m━━━━━━━━━━━━━━━━━━━━\u001b[0m\u001b[37m\u001b[0m \u001b[1m8s\u001b[0m 109ms/step - loss: 0.0266\n",
            "Epoch 2/10\n",
            "\u001b[1m31/31\u001b[0m \u001b[32m━━━━━━━━━━━━━━━━━━━━\u001b[0m\u001b[37m\u001b[0m \u001b[1m5s\u001b[0m 124ms/step - loss: 6.2683e-04\n",
            "Epoch 3/10\n",
            "\u001b[1m31/31\u001b[0m \u001b[32m━━━━━━━━━━━━━━━━━━━━\u001b[0m\u001b[37m\u001b[0m \u001b[1m6s\u001b[0m 194ms/step - loss: 3.2362e-04\n",
            "Epoch 4/10\n",
            "\u001b[1m31/31\u001b[0m \u001b[32m━━━━━━━━━━━━━━━━━━━━\u001b[0m\u001b[37m\u001b[0m \u001b[1m3s\u001b[0m 108ms/step - loss: 3.0658e-04\n",
            "Epoch 5/10\n",
            "\u001b[1m31/31\u001b[0m \u001b[32m━━━━━━━━━━━━━━━━━━━━\u001b[0m\u001b[37m\u001b[0m \u001b[1m3s\u001b[0m 112ms/step - loss: 2.6603e-04\n",
            "Epoch 6/10\n",
            "\u001b[1m31/31\u001b[0m \u001b[32m━━━━━━━━━━━━━━━━━━━━\u001b[0m\u001b[37m\u001b[0m \u001b[1m7s\u001b[0m 159ms/step - loss: 2.6118e-04\n",
            "Epoch 7/10\n",
            "\u001b[1m31/31\u001b[0m \u001b[32m━━━━━━━━━━━━━━━━━━━━\u001b[0m\u001b[37m\u001b[0m \u001b[1m4s\u001b[0m 120ms/step - loss: 2.5042e-04\n",
            "Epoch 8/10\n",
            "\u001b[1m31/31\u001b[0m \u001b[32m━━━━━━━━━━━━━━━━━━━━\u001b[0m\u001b[37m\u001b[0m \u001b[1m3s\u001b[0m 110ms/step - loss: 2.5762e-04\n",
            "Epoch 9/10\n",
            "\u001b[1m31/31\u001b[0m \u001b[32m━━━━━━━━━━━━━━━━━━━━\u001b[0m\u001b[37m\u001b[0m \u001b[1m3s\u001b[0m 109ms/step - loss: 2.7158e-04\n",
            "Epoch 10/10\n",
            "\u001b[1m31/31\u001b[0m \u001b[32m━━━━━━━━━━━━━━━━━━━━\u001b[0m\u001b[37m\u001b[0m \u001b[1m5s\u001b[0m 161ms/step - loss: 2.6036e-04\n"
          ]
        },
        {
          "output_type": "execute_result",
          "data": {
            "text/plain": [
              "<keras.src.callbacks.history.History at 0x78aff44f9ea0>"
            ]
          },
          "metadata": {},
          "execution_count": 8
        }
      ]
    },
    {
      "cell_type": "code",
      "source": [
        "test_loss = model.evaluate(X_test, y_test)\n",
        "print('Test Loss:', test_loss)"
      ],
      "metadata": {
        "colab": {
          "base_uri": "https://localhost:8080/",
          "height": 0
        },
        "id": "YKXB5xd3JBNw",
        "outputId": "d6afab6f-0740-4362-eb7c-c07e7963d22b"
      },
      "execution_count": 9,
      "outputs": [
        {
          "output_type": "stream",
          "name": "stdout",
          "text": [
            "\u001b[1m16/16\u001b[0m \u001b[32m━━━━━━━━━━━━━━━━━━━━\u001b[0m\u001b[37m\u001b[0m \u001b[1m1s\u001b[0m 26ms/step - loss: 8.7799e-04\n",
            "Test Loss: 0.0007731923251412809\n"
          ]
        }
      ]
    },
    {
      "cell_type": "code",
      "source": [
        "predictions = model.predict(X_test)\n",
        "predictions = scaler.inverse_transform(predictions)"
      ],
      "metadata": {
        "colab": {
          "base_uri": "https://localhost:8080/",
          "height": 0
        },
        "id": "s0_8GQjxJDDd",
        "outputId": "cdbf9bed-0546-4939-f1e0-bed14234630a"
      },
      "execution_count": 10,
      "outputs": [
        {
          "output_type": "stream",
          "name": "stdout",
          "text": [
            "\u001b[1m16/16\u001b[0m \u001b[32m━━━━━━━━━━━━━━━━━━━━\u001b[0m\u001b[37m\u001b[0m \u001b[1m1s\u001b[0m 50ms/step\n"
          ]
        }
      ]
    },
    {
      "cell_type": "code",
      "source": [
        "original_data = stock_data['Close'].values\n",
        "predicted_data = np.empty_like(original_data)\n",
        "predicted_data[:] = np.nan\n",
        "predicted_data[-len(predictions):] = predictions.reshape(-1)"
      ],
      "metadata": {
        "id": "6du1NR6UJGB-"
      },
      "execution_count": 11,
      "outputs": []
    },
    {
      "cell_type": "code",
      "source": [
        "import matplotlib.pyplot as plt\n",
        "\n",
        "plt.plot(original_data, label='Original Data')\n",
        "plt.plot(predicted_data, label='Predicted Data')\n",
        "plt.legend()\n",
        "plt.show()"
      ],
      "metadata": {
        "colab": {
          "base_uri": "https://localhost:8080/",
          "height": 430
        },
        "id": "M63465ggWqGd",
        "outputId": "c1d9040d-44e5-4438-b60b-6520e3d4006f"
      },
      "execution_count": 12,
      "outputs": [
        {
          "output_type": "display_data",
          "data": {
            "text/plain": [
              "<Figure size 640x480 with 1 Axes>"
            ],
            "image/png": "[encoded data removed]"
          },
          "metadata": {}
        }
      ]
    },
    {
      "cell_type": "code",
      "source": [
        "new_predictions = model.predict(X_test[-90:])\n",
        "new_predictions = scaler.inverse_transform(new_predictions)\n",
        "\n",
        "predicted_data = np.append(predicted_data, new_predictions)\n",
        "predicted_data[-90:]"
      ],
      "metadata": {
        "id": "pCvpJRQkkTuK",
        "colab": {
          "base_uri": "https://localhost:8080/",
          "height": 0
        },
        "outputId": "e32aa163-1bc1-4577-e2a6-350b3267f3eb"
      },
      "execution_count": 13,
      "outputs": [
        {
          "output_type": "stream",
          "name": "stdout",
          "text": [
            "\u001b[1m3/3\u001b[0m \u001b[32m━━━━━━━━━━━━━━━━━━━━\u001b[0m\u001b[37m\u001b[0m \u001b[1m0s\u001b[0m 29ms/step\n"
          ]
        },
        {
          "output_type": "execute_result",
          "data": {
            "text/plain": [
              "array([172.00378418, 172.26321411, 172.43411255, 172.77598572,\n",
              "       173.83682251, 175.13952637, 176.55984497, 177.9834137 ,\n",
              "       179.43289185, 180.70573425, 181.99578857, 183.27526855,\n",
              "       184.60583496, 185.88275146, 187.04644775, 188.13893127,\n",
              "       189.19494629, 190.06542969, 190.51994324, 190.89634705,\n",
              "       191.18910217, 191.42938232, 191.68257141, 191.98327637,\n",
              "       192.40109253, 192.87759399, 193.45318604, 193.96086121,\n",
              "       194.54925537, 194.90600586, 195.98403931, 197.75315857,\n",
              "       199.88375854, 201.98562622, 204.2000885 , 206.17523193,\n",
              "       207.59712219, 208.46893311, 208.99505615, 209.32884216,\n",
              "       209.77687073, 210.30047607, 210.61630249, 211.17710876,\n",
              "       212.04417419, 213.10630798, 214.50875854, 216.09898376,\n",
              "       217.74575806, 219.57966614, 221.05439758, 222.41705322,\n",
              "       223.84576416, 225.22799683, 226.12158203, 226.39358521,\n",
              "       226.2963562 , 225.9571991 , 225.5572052 , 224.74278259,\n",
              "       223.6907959 , 222.59510803, 221.55839539, 220.65779114,\n",
              "       220.0980835 , 219.540802  , 219.12924194, 218.17599487,\n",
              "       216.87162781, 215.60527039, 214.64825439, 214.10903931,\n",
              "       213.92884827, 214.20674133, 214.76101685, 215.63249207,\n",
              "       216.71200562, 217.83340454, 218.94613647, 219.97148132,\n",
              "       220.7612915 , 221.50526428, 222.18336487, 222.82678223,\n",
              "       223.30780029, 223.86700439, 224.3739624 , 224.43510437,\n",
              "       224.1282959 , 223.71902466])"
            ]
          },
          "metadata": {},
          "execution_count": 13
        }
      ]
    },
    {
      "cell_type": "code",
      "source": [
        "plt.plot(original_data, label='Original Data')\n",
        "plt.plot(predicted_data, label='Predicted Data')\n",
        "plt.legend()\n",
        "plt.show()"
      ],
      "metadata": {
        "colab": {
          "base_uri": "https://localhost:8080/",
          "height": 430
        },
        "id": "bF_6HIq7tGCt",
        "outputId": "59f9ffb2-2800-4b0c-e71e-997958a7ad12"
      },
      "execution_count": 14,
      "outputs": [
        {
          "output_type": "display_data",
          "data": {
            "text/plain": [
              "<Figure size 640x480 with 1 Axes>"
            ],
            "image/png": "[encoded data removed]"
          },
          "metadata": {}
        }
      ]
    }
  ]
}