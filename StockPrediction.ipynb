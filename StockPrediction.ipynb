{
  "nbformat": 4,
  "nbformat_minor": 0,
  "metadata": {
    "colab": {
      "provenance": [],
      "include_colab_link": true
    },
    "kernelspec": {
      "name": "python3",
      "display_name": "Python 3"
    },
    "language_info": {
      "name": "python"
    },
    "widgets": {
      "application/vnd.jupyter.widget-state+json": {
        "b9c5cd5bf6d64fdb863e98653e604e38": {
          "model_module": "@jupyter-widgets/controls",
          "model_name": "TextModel",
          "model_module_version": "1.5.0",
          "state": {
            "_dom_classes": [],
            "_model_module": "@jupyter-widgets/controls",
            "_model_module_version": "1.5.0",
            "_model_name": "TextModel",
            "_view_count": null,
            "_view_module": "@jupyter-widgets/controls",
            "_view_module_version": "1.5.0",
            "_view_name": "TextView",
            "continuous_update": true,
            "description": "Company Name:",
            "description_tooltip": null,
            "disabled": false,
            "layout": "IPY_MODEL_c115e88f5de24fcf878c9f6f360350b9",
            "placeholder": "Enter company ticker",
            "style": "IPY_MODEL_41192a2002e8471998ae88e7abf0065a",
            "value": "AAPL"
          }
        },
        "c115e88f5de24fcf878c9f6f360350b9": {
          "model_module": "@jupyter-widgets/base",
          "model_name": "LayoutModel",
          "model_module_version": "1.2.0",
          "state": {
            "_model_module": "@jupyter-widgets/base",
            "_model_module_version": "1.2.0",
            "_model_name": "LayoutModel",
            "_view_count": null,
            "_view_module": "@jupyter-widgets/base",
            "_view_module_version": "1.2.0",
            "_view_name": "LayoutView",
            "align_content": null,
            "align_items": null,
            "align_self": null,
            "border": null,
            "bottom": null,
            "display": null,
            "flex": null,
            "flex_flow": null,
            "grid_area": null,
            "grid_auto_columns": null,
            "grid_auto_flow": null,
            "grid_auto_rows": null,
            "grid_column": null,
            "grid_gap": null,
            "grid_row": null,
            "grid_template_areas": null,
            "grid_template_columns": null,
            "grid_template_rows": null,
            "height": null,
            "justify_content": null,
            "justify_items": null,
            "left": null,
            "margin": null,
            "max_height": null,
            "max_width": null,
            "min_height": null,
            "min_width": null,
            "object_fit": null,
            "object_position": null,
            "order": null,
            "overflow": null,
            "overflow_x": null,
            "overflow_y": null,
            "padding": null,
            "right": null,
            "top": null,
            "visibility": null,
            "width": null
          }
        },
        "41192a2002e8471998ae88e7abf0065a": {
          "model_module": "@jupyter-widgets/controls",
          "model_name": "DescriptionStyleModel",
          "model_module_version": "1.5.0",
          "state": {
            "_model_module": "@jupyter-widgets/controls",
            "_model_module_version": "1.5.0",
            "_model_name": "DescriptionStyleModel",
            "_view_count": null,
            "_view_module": "@jupyter-widgets/base",
            "_view_module_version": "1.2.0",
            "_view_name": "StyleView",
            "description_width": ""
          }
        },
        "af73a05bd5c742ed94a772bd8e5218dd": {
          "model_module": "@jupyter-widgets/controls",
          "model_name": "DatePickerModel",
          "model_module_version": "1.5.0",
          "state": {
            "_dom_classes": [],
            "_model_module": "@jupyter-widgets/controls",
            "_model_module_version": "1.5.0",
            "_model_name": "DatePickerModel",
            "_view_count": null,
            "_view_module": "@jupyter-widgets/controls",
            "_view_module_version": "1.5.0",
            "_view_name": "DatePickerView",
            "description": "Start Date:",
            "description_tooltip": null,
            "disabled": false,
            "layout": "IPY_MODEL_5f0b11d4d0654047a03a3613c7a03986",
            "style": "IPY_MODEL_39582cc0284241a6b9538db1a91a69c8",
            "value": {
              "year": 2001,
              "month": 5,
              "date": 11
            }
          }
        },
        "5f0b11d4d0654047a03a3613c7a03986": {
          "model_module": "@jupyter-widgets/base",
          "model_name": "LayoutModel",
          "model_module_version": "1.2.0",
          "state": {
            "_model_module": "@jupyter-widgets/base",
            "_model_module_version": "1.2.0",
            "_model_name": "LayoutModel",
            "_view_count": null,
            "_view_module": "@jupyter-widgets/base",
            "_view_module_version": "1.2.0",
            "_view_name": "LayoutView",
            "align_content": null,
            "align_items": null,
            "align_self": null,
            "border": null,
            "bottom": null,
            "display": null,
            "flex": null,
            "flex_flow": null,
            "grid_area": null,
            "grid_auto_columns": null,
            "grid_auto_flow": null,
            "grid_auto_rows": null,
            "grid_column": null,
            "grid_gap": null,
            "grid_row": null,
            "grid_template_areas": null,
            "grid_template_columns": null,
            "grid_template_rows": null,
            "height": null,
            "justify_content": null,
            "justify_items": null,
            "left": null,
            "margin": null,
            "max_height": null,
            "max_width": null,
            "min_height": null,
            "min_width": null,
            "object_fit": null,
            "object_position": null,
            "order": null,
            "overflow": null,
            "overflow_x": null,
            "overflow_y": null,
            "padding": null,
            "right": null,
            "top": null,
            "visibility": null,
            "width": null
          }
        },
        "39582cc0284241a6b9538db1a91a69c8": {
          "model_module": "@jupyter-widgets/controls",
          "model_name": "DescriptionStyleModel",
          "model_module_version": "1.5.0",
          "state": {
            "_model_module": "@jupyter-widgets/controls",
            "_model_module_version": "1.5.0",
            "_model_name": "DescriptionStyleModel",
            "_view_count": null,
            "_view_module": "@jupyter-widgets/base",
            "_view_module_version": "1.2.0",
            "_view_name": "StyleView",
            "description_width": ""
          }
        },
        "3d527298ee0740b18a618264d2ba82c0": {
          "model_module": "@jupyter-widgets/controls",
          "model_name": "DatePickerModel",
          "model_module_version": "1.5.0",
          "state": {
            "_dom_classes": [],
            "_model_module": "@jupyter-widgets/controls",
            "_model_module_version": "1.5.0",
            "_model_name": "DatePickerModel",
            "_view_count": null,
            "_view_module": "@jupyter-widgets/controls",
            "_view_module_version": "1.5.0",
            "_view_name": "DatePickerView",
            "description": "End Date:",
            "description_tooltip": null,
            "disabled": false,
            "layout": "IPY_MODEL_f7d8affe8dce4dd8b06dd2a101523032",
            "style": "IPY_MODEL_dcc15d78d51e43e185a114fe888b2bcf",
            "value": {
              "year": 2024,
              "month": 8,
              "date": 14
            }
          }
        },
        "f7d8affe8dce4dd8b06dd2a101523032": {
          "model_module": "@jupyter-widgets/base",
          "model_name": "LayoutModel",
          "model_module_version": "1.2.0",
          "state": {
            "_model_module": "@jupyter-widgets/base",
            "_model_module_version": "1.2.0",
            "_model_name": "LayoutModel",
            "_view_count": null,
            "_view_module": "@jupyter-widgets/base",
            "_view_module_version": "1.2.0",
            "_view_name": "LayoutView",
            "align_content": null,
            "align_items": null,
            "align_self": null,
            "border": null,
            "bottom": null,
            "display": null,
            "flex": null,
            "flex_flow": null,
            "grid_area": null,
            "grid_auto_columns": null,
            "grid_auto_flow": null,
            "grid_auto_rows": null,
            "grid_column": null,
            "grid_gap": null,
            "grid_row": null,
            "grid_template_areas": null,
            "grid_template_columns": null,
            "grid_template_rows": null,
            "height": null,
            "justify_content": null,
            "justify_items": null,
            "left": null,
            "margin": null,
            "max_height": null,
            "max_width": null,
            "min_height": null,
            "min_width": null,
            "object_fit": null,
            "object_position": null,
            "order": null,
            "overflow": null,
            "overflow_x": null,
            "overflow_y": null,
            "padding": null,
            "right": null,
            "top": null,
            "visibility": null,
            "width": null
          }
        },
        "dcc15d78d51e43e185a114fe888b2bcf": {
          "model_module": "@jupyter-widgets/controls",
          "model_name": "DescriptionStyleModel",
          "model_module_version": "1.5.0",
          "state": {
            "_model_module": "@jupyter-widgets/controls",
            "_model_module_version": "1.5.0",
            "_model_name": "DescriptionStyleModel",
            "_view_count": null,
            "_view_module": "@jupyter-widgets/base",
            "_view_module_version": "1.2.0",
            "_view_name": "StyleView",
            "description_width": ""
          }
        },
        "499ede1d3365473c9de1ab9bef8342ac": {
          "model_module": "@jupyter-widgets/controls",
          "model_name": "ButtonModel",
          "model_module_version": "1.5.0",
          "state": {
            "_dom_classes": [],
            "_model_module": "@jupyter-widgets/controls",
            "_model_module_version": "1.5.0",
            "_model_name": "ButtonModel",
            "_view_count": null,
            "_view_module": "@jupyter-widgets/controls",
            "_view_module_version": "1.5.0",
            "_view_name": "ButtonView",
            "button_style": "",
            "description": "Submit",
            "disabled": false,
            "icon": "",
            "layout": "IPY_MODEL_f265a5fa32c44e418ad824c1adb4d5e5",
            "style": "IPY_MODEL_a4a3092e5ba941ff81849b7635d11953",
            "tooltip": ""
          }
        },
        "f265a5fa32c44e418ad824c1adb4d5e5": {
          "model_module": "@jupyter-widgets/base",
          "model_name": "LayoutModel",
          "model_module_version": "1.2.0",
          "state": {
            "_model_module": "@jupyter-widgets/base",
            "_model_module_version": "1.2.0",
            "_model_name": "LayoutModel",
            "_view_count": null,
            "_view_module": "@jupyter-widgets/base",
            "_view_module_version": "1.2.0",
            "_view_name": "LayoutView",
            "align_content": null,
            "align_items": null,
            "align_self": null,
            "border": null,
            "bottom": null,
            "display": null,
            "flex": null,
            "flex_flow": null,
            "grid_area": null,
            "grid_auto_columns": null,
            "grid_auto_flow": null,
            "grid_auto_rows": null,
            "grid_column": null,
            "grid_gap": null,
            "grid_row": null,
            "grid_template_areas": null,
            "grid_template_columns": null,
            "grid_template_rows": null,
            "height": null,
            "justify_content": null,
            "justify_items": null,
            "left": null,
            "margin": null,
            "max_height": null,
            "max_width": null,
            "min_height": null,
            "min_width": null,
            "object_fit": null,
            "object_position": null,
            "order": null,
            "overflow": null,
            "overflow_x": null,
            "overflow_y": null,
            "padding": null,
            "right": null,
            "top": null,
            "visibility": null,
            "width": null
          }
        },
        "a4a3092e5ba941ff81849b7635d11953": {
          "model_module": "@jupyter-widgets/controls",
          "model_name": "ButtonStyleModel",
          "model_module_version": "1.5.0",
          "state": {
            "_model_module": "@jupyter-widgets/controls",
            "_model_module_version": "1.5.0",
            "_model_name": "ButtonStyleModel",
            "_view_count": null,
            "_view_module": "@jupyter-widgets/base",
            "_view_module_version": "1.2.0",
            "_view_name": "StyleView",
            "button_color": null,
            "font_weight": ""
          }
        }
      }
    }
  },
  "cells": [
    {
      "cell_type": "markdown",
      "metadata": {
        "id": "view-in-github",
        "colab_type": "text"
      },
      "source": [
        "<a href=\"https://colab.research.google.com/github/ShreyWey/Stock-Prediction/blob/main/StockPrediction.ipynb\" target=\"_parent\"><img src=\"https://colab.research.google.com/assets/colab-badge.svg\" alt=\"Open In Colab\"/></a>"
      ]
    },
    {
      "cell_type": "code",
      "source": [
        "'''\n",
        "# Stock Price Prediction with LSTM\n",
        "\n",
        "## Overview\n",
        "\n",
        "This project focuses on predicting stock prices using historical data from Yahoo Finance. The key steps involve fetching stock data, preprocessing the data using MinMax scaling, and training a Long Short-Term Memory (LSTM) model to make predictions based on past prices.\n",
        "\n",
        "### Features\n",
        "- **Company Data**: Fetch stock data from Yahoo Finance for any given company using its ticker symbol.\n",
        "- **Data Preprocessing**: Scales stock prices to a range suitable for machine learning models.\n",
        "- **LSTM Model**: A sequential LSTM model is used to predict stock prices based on historical data.\n",
        "- **Visualization**: Compares original stock prices with the predicted values to show the performance of the model.\n",
        "\n",
        "## Getting Started\n",
        "\n",
        "### Prerequisites\n",
        "You will need the following libraries:\n",
        "- `ipywidgets`\n",
        "- `yfinance`\n",
        "- `numpy`\n",
        "- `keras`\n",
        "- `matplotlib`\n",
        "- `sklearn`\n",
        "\n",
        "Install them using pip:\n",
        "```bash\n",
        "pip install yfinance ipywidgets numpy keras matplotlib scikit-learn\n",
        "```\n",
        "\n",
        "### Running the Project\n",
        "1. **Input Parameters**:\n",
        "   - Company ticker (e.g., AAPL for Apple).\n",
        "   - Start and end dates for the data you wish to fetch.\n",
        "\n",
        "2. **Fetch Data**:\n",
        "   Use Yahoo Finance to download stock data for the selected time range.\n",
        "\n",
        "3. **Preprocess the Data**:\n",
        "   Scale the stock prices and split the data into training and testing sets.\n",
        "\n",
        "4. **Train the Model**:\n",
        "   The LSTM model is trained on the scaled data with two LSTM layers and a Dense output layer.\n",
        "\n",
        "5. **Predict Stock Prices**:\n",
        "   Use the trained model to predict future stock prices and compare them with actual values.\n",
        "\n",
        "6. **Plot the Results**:\n",
        "   Visualize the actual stock prices and the predicted values to assess the model's performance.\n",
        "\n",
        "## Code Workflow\n",
        "\n",
        "1. **Input Widgets**:\n",
        "   Collect company name, start date, and end date using `ipywidgets`.\n",
        "\n",
        "2. **Fetch Stock Data**:\n",
        "   Download stock data using Yahoo Finance:\n",
        "   ```python\n",
        "   stock_data = yf.download(company, start=start, end=end)\n",
        "   ```\n",
        "\n",
        "3. **Preprocess**:\n",
        "   - Scale the closing prices using `MinMaxScaler`.\n",
        "   - Create datasets for model training.\n",
        "\n",
        "4. **LSTM Model**:\n",
        "   A sequential LSTM model is trained for 10 epochs with the following architecture:\n",
        "   ```python\n",
        "   model = Sequential()\n",
        "   model.add(LSTM(units=64, return_sequences=True, input_shape=(time_step, 1)))\n",
        "   model.add(LSTM(units=64))\n",
        "   model.add(Dense(units=64))\n",
        "   model.add(Dense(units=1))\n",
        "   ```\n",
        "\n",
        "5. **Evaluate and Predict**:\n",
        "   After training, predictions are made and visualized:\n",
        "   ```python\n",
        "   plt.plot(original_data, label='Original Data')\n",
        "   plt.plot(predicted_data, label='Predicted Data')\n",
        "   plt.legend()\n",
        "   plt.show()\n",
        "   ```\n",
        "\n",
        "## Model Performance\n",
        "\n",
        "The model's loss during training and evaluation is printed after each epoch. The predictions are inverse transformed to match the original scale of stock prices and are plotted against the actual stock prices for visualization.\n",
        "\n",
        "## Conclusion\n",
        "\n",
        "This project demonstrates how to use an LSTM model to predict stock prices based on historical data. The model is able to capture trends and make accurate predictions over a given time period.\n",
        "'''\n"
      ],
      "metadata": {
        "id": "nwvQ9A1fWmEA"
      },
      "execution_count": null,
      "outputs": []
    },
    {
      "cell_type": "code",
      "source": [
        "import ipywidgets as widgets\n",
        "from IPython.display import display\n",
        "import datetime\n",
        "import yfinance as yf\n",
        "\n",
        "company_name = widgets.Text(description=\"Company Name:\", placeholder=\"Enter company ticker\")\n",
        "start_date = widgets.DatePicker(description='Start Date:', value=datetime.date.today())\n",
        "end_date = widgets.DatePicker(description='End Date:', value=datetime.date.today())\n",
        "\n",
        "submit_button = widgets.Button(description=\"Submit\")\n",
        "\n",
        "display(company_name, start_date, end_date, submit_button)\n",
        "\n",
        "def on_button_click(b):\n",
        "    company = company_name.value\n",
        "    start = start_date.value.strftime('%Y-%m-%d')  # Convert to 'YYYY-MM-DD' string format\n",
        "    end = end_date.value.strftime('%Y-%m-%d')      # Convert to 'YYYY-MM-DD' string format\n",
        "\n",
        "    print(f\"Fetching data for {company} from {start} to {end}...\")\n",
        "\n",
        "    stock_data = yf.download(company, start=start, end=end)\n",
        "\n",
        "submit_button.on_click(on_button_click)\n"
      ],
      "metadata": {
        "id": "-mUPolZszGxp",
        "outputId": "18c7d1d1-142f-43f8-ce68-8969fec716fc",
        "colab": {
          "base_uri": "https://localhost:8080/",
          "height": 176,
          "referenced_widgets": [
            "b9c5cd5bf6d64fdb863e98653e604e38",
            "c115e88f5de24fcf878c9f6f360350b9",
            "41192a2002e8471998ae88e7abf0065a",
            "af73a05bd5c742ed94a772bd8e5218dd",
            "5f0b11d4d0654047a03a3613c7a03986",
            "39582cc0284241a6b9538db1a91a69c8",
            "3d527298ee0740b18a618264d2ba82c0",
            "f7d8affe8dce4dd8b06dd2a101523032",
            "dcc15d78d51e43e185a114fe888b2bcf",
            "499ede1d3365473c9de1ab9bef8342ac",
            "f265a5fa32c44e418ad824c1adb4d5e5",
            "a4a3092e5ba941ff81849b7635d11953"
          ]
        }
      },
      "execution_count": 3,
      "outputs": [
        {
          "output_type": "display_data",
          "data": {
            "text/plain": [
              "Text(value='', description='Company Name:', placeholder='Enter company ticker')"
            ],
            "application/vnd.jupyter.widget-view+json": {
              "version_major": 2,
              "version_minor": 0,
              "model_id": "b9c5cd5bf6d64fdb863e98653e604e38"
            }
          },
          "metadata": {}
        },
        {
          "output_type": "display_data",
          "data": {
            "text/plain": [
              "DatePicker(value=datetime.date(2024, 9, 14), description='Start Date:')"
            ],
            "application/vnd.jupyter.widget-view+json": {
              "version_major": 2,
              "version_minor": 0,
              "model_id": "af73a05bd5c742ed94a772bd8e5218dd"
            }
          },
          "metadata": {}
        },
        {
          "output_type": "display_data",
          "data": {
            "text/plain": [
              "DatePicker(value=datetime.date(2024, 9, 14), description='End Date:')"
            ],
            "application/vnd.jupyter.widget-view+json": {
              "version_major": 2,
              "version_minor": 0,
              "model_id": "3d527298ee0740b18a618264d2ba82c0"
            }
          },
          "metadata": {}
        },
        {
          "output_type": "display_data",
          "data": {
            "text/plain": [
              "Button(description='Submit', style=ButtonStyle())"
            ],
            "application/vnd.jupyter.widget-view+json": {
              "version_major": 2,
              "version_minor": 0,
              "model_id": "499ede1d3365473c9de1ab9bef8342ac"
            }
          },
          "metadata": {}
        },
        {
          "output_type": "stream",
          "name": "stdout",
          "text": [
            "Fetching data for AAPL from 2001-06-11 to 2024-09-14...\n"
          ]
        },
        {
          "output_type": "stream",
          "name": "stderr",
          "text": [
            "\r[*********************100%***********************]  1 of 1 completed\n"
          ]
        }
      ]
    },
    {
      "cell_type": "code",
      "source": [
        "import yfinance as yf\n",
        "\n",
        "stock_data = yf.download(company_name.value, start_date.value, end_date.value)\n",
        "stock_data"
      ],
      "metadata": {
        "colab": {
          "base_uri": "https://localhost:8080/",
          "height": 472
        },
        "id": "W1ysuknEH6wu",
        "outputId": "abf6569d-eab4-49bb-f00a-b63c18818e2c"
      },
      "execution_count": 4,
      "outputs": [
        {
          "output_type": "stream",
          "name": "stderr",
          "text": [
            "\r[*********************100%***********************]  1 of 1 completed\n"
          ]
        },
        {
          "output_type": "execute_result",
          "data": {
            "text/plain": [
              "                  Open        High         Low       Close   Adj Close  \\\n",
              "Date                                                                     \n",
              "2001-06-11    0.375893    0.376250    0.356250    0.357857    0.302201   \n",
              "2001-06-12    0.353036    0.369464    0.352857    0.362679    0.306273   \n",
              "2001-06-13    0.382500    0.388036    0.358214    0.365536    0.308686   \n",
              "2001-06-14    0.357857    0.365179    0.353036    0.355000    0.299789   \n",
              "2001-06-15    0.358929    0.370536    0.345536    0.365000    0.308233   \n",
              "...                ...         ...         ...         ...         ...   \n",
              "2024-09-09  220.820007  221.270004  216.710007  220.910004  220.910004   \n",
              "2024-09-10  218.919998  221.479996  216.729996  220.110001  220.110001   \n",
              "2024-09-11  221.460007  223.089996  217.889999  222.660004  222.660004   \n",
              "2024-09-12  222.500000  223.550003  219.820007  222.770004  222.770004   \n",
              "2024-09-13  223.580002  224.039993  221.910004  222.500000  222.500000   \n",
              "\n",
              "               Volume  \n",
              "Date                   \n",
              "2001-06-11  294000000  \n",
              "2001-06-12  303794400  \n",
              "2001-06-13  511487200  \n",
              "2001-06-14  297348800  \n",
              "2001-06-15  454624800  \n",
              "...               ...  \n",
              "2024-09-09   67180000  \n",
              "2024-09-10   51591000  \n",
              "2024-09-11   44587100  \n",
              "2024-09-12   37498200  \n",
              "2024-09-13   36722900  \n",
              "\n",
              "[5852 rows x 6 columns]"
            ],
            "text/html": [
              "\n",
              "  <div id=\"df-e2351363-6cc6-40a8-8e5c-9923cb4b8972\" class=\"colab-df-container\">\n",
              "    <div>\n",
              "<style scoped>\n",
              "    .dataframe tbody tr th:only-of-type {\n",
              "        vertical-align: middle;\n",
              "    }\n",
              "\n",
              "    .dataframe tbody tr th {\n",
              "        vertical-align: top;\n",
              "    }\n",
              "\n",
              "    .dataframe thead th {\n",
              "        text-align: right;\n",
              "    }\n",
              "</style>\n",
              "<table border=\"1\" class=\"dataframe\">\n",
              "  <thead>\n",
              "    <tr style=\"text-align: right;\">\n",
              "      <th></th>\n",
              "      <th>Open</th>\n",
              "      <th>High</th>\n",
              "      <th>Low</th>\n",
              "      <th>Close</th>\n",
              "      <th>Adj Close</th>\n",
              "      <th>Volume</th>\n",
              "    </tr>\n",
              "    <tr>\n",
              "      <th>Date</th>\n",
              "      <th></th>\n",
              "      <th></th>\n",
              "      <th></th>\n",
              "      <th></th>\n",
              "      <th></th>\n",
              "      <th></th>\n",
              "    </tr>\n",
              "  </thead>\n",
              "  <tbody>\n",
              "    <tr>\n",
              "      <th>2001-06-11</th>\n",
              "      <td>0.375893</td>\n",
              "      <td>0.376250</td>\n",
              "      <td>0.356250</td>\n",
              "      <td>0.357857</td>\n",
              "      <td>0.302201</td>\n",
              "      <td>294000000</td>\n",
              "    </tr>\n",
              "    <tr>\n",
              "      <th>2001-06-12</th>\n",
              "      <td>0.353036</td>\n",
              "      <td>0.369464</td>\n",
              "      <td>0.352857</td>\n",
              "      <td>0.362679</td>\n",
              "      <td>0.306273</td>\n",
              "      <td>303794400</td>\n",
              "    </tr>\n",
              "    <tr>\n",
              "      <th>2001-06-13</th>\n",
              "      <td>0.382500</td>\n",
              "      <td>0.388036</td>\n",
              "      <td>0.358214</td>\n",
              "      <td>0.365536</td>\n",
              "      <td>0.308686</td>\n",
              "      <td>511487200</td>\n",
              "    </tr>\n",
              "    <tr>\n",
              "      <th>2001-06-14</th>\n",
              "      <td>0.357857</td>\n",
              "      <td>0.365179</td>\n",
              "      <td>0.353036</td>\n",
              "      <td>0.355000</td>\n",
              "      <td>0.299789</td>\n",
              "      <td>297348800</td>\n",
              "    </tr>\n",
              "    <tr>\n",
              "      <th>2001-06-15</th>\n",
              "      <td>0.358929</td>\n",
              "      <td>0.370536</td>\n",
              "      <td>0.345536</td>\n",
              "      <td>0.365000</td>\n",
              "      <td>0.308233</td>\n",
              "      <td>454624800</td>\n",
              "    </tr>\n",
              "    <tr>\n",
              "      <th>...</th>\n",
              "      <td>...</td>\n",
              "      <td>...</td>\n",
              "      <td>...</td>\n",
              "      <td>...</td>\n",
              "      <td>...</td>\n",
              "      <td>...</td>\n",
              "    </tr>\n",
              "    <tr>\n",
              "      <th>2024-09-09</th>\n",
              "      <td>220.820007</td>\n",
              "      <td>221.270004</td>\n",
              "      <td>216.710007</td>\n",
              "      <td>220.910004</td>\n",
              "      <td>220.910004</td>\n",
              "      <td>67180000</td>\n",
              "    </tr>\n",
              "    <tr>\n",
              "      <th>2024-09-10</th>\n",
              "      <td>218.919998</td>\n",
              "      <td>221.479996</td>\n",
              "      <td>216.729996</td>\n",
              "      <td>220.110001</td>\n",
              "      <td>220.110001</td>\n",
              "      <td>51591000</td>\n",
              "    </tr>\n",
              "    <tr>\n",
              "      <th>2024-09-11</th>\n",
              "      <td>221.460007</td>\n",
              "      <td>223.089996</td>\n",
              "      <td>217.889999</td>\n",
              "      <td>222.660004</td>\n",
              "      <td>222.660004</td>\n",
              "      <td>44587100</td>\n",
              "    </tr>\n",
              "    <tr>\n",
              "      <th>2024-09-12</th>\n",
              "      <td>222.500000</td>\n",
              "      <td>223.550003</td>\n",
              "      <td>219.820007</td>\n",
              "      <td>222.770004</td>\n",
              "      <td>222.770004</td>\n",
              "      <td>37498200</td>\n",
              "    </tr>\n",
              "    <tr>\n",
              "      <th>2024-09-13</th>\n",
              "      <td>223.580002</td>\n",
              "      <td>224.039993</td>\n",
              "      <td>221.910004</td>\n",
              "      <td>222.500000</td>\n",
              "      <td>222.500000</td>\n",
              "      <td>36722900</td>\n",
              "    </tr>\n",
              "  </tbody>\n",
              "</table>\n",
              "<p>5852 rows × 6 columns</p>\n",
              "</div>\n",
              "    <div class=\"colab-df-buttons\">\n",
              "\n",
              "  <div class=\"colab-df-container\">\n",
              "    <button class=\"colab-df-convert\" onclick=\"convertToInteractive('df-e2351363-6cc6-40a8-8e5c-9923cb4b8972')\"\n",
              "            title=\"Convert this dataframe to an interactive table.\"\n",
              "            style=\"display:none;\">\n",
              "\n",
              "  <svg xmlns=\"http://www.w3.org/2000/svg\" height=\"24px\" viewBox=\"0 -960 960 960\">\n",
              "    <path d=\"M120-120v-720h720v720H120Zm60-500h600v-160H180v160Zm220 220h160v-160H400v160Zm0 220h160v-160H400v160ZM180-400h160v-160H180v160Zm440 0h160v-160H620v160ZM180-180h160v-160H180v160Zm440 0h160v-160H620v160Z\"/>\n",
              "  </svg>\n",
              "    </button>\n",
              "\n",
              "  <style>\n",
              "    .colab-df-container {\n",
              "      display:flex;\n",
              "      gap: 12px;\n",
              "    }\n",
              "\n",
              "    .colab-df-convert {\n",
              "      background-color: #E8F0FE;\n",
              "      border: none;\n",
              "      border-radius: 50%;\n",
              "      cursor: pointer;\n",
              "      display: none;\n",
              "      fill: #1967D2;\n",
              "      height: 32px;\n",
              "      padding: 0 0 0 0;\n",
              "      width: 32px;\n",
              "    }\n",
              "\n",
              "    .colab-df-convert:hover {\n",
              "      background-color: #E2EBFA;\n",
              "      box-shadow: 0px 1px 2px rgba(60, 64, 67, 0.3), 0px 1px 3px 1px rgba(60, 64, 67, 0.15);\n",
              "      fill: #174EA6;\n",
              "    }\n",
              "\n",
              "    .colab-df-buttons div {\n",
              "      margin-bottom: 4px;\n",
              "    }\n",
              "\n",
              "    [theme=dark] .colab-df-convert {\n",
              "      background-color: #3B4455;\n",
              "      fill: #D2E3FC;\n",
              "    }\n",
              "\n",
              "    [theme=dark] .colab-df-convert:hover {\n",
              "      background-color: #434B5C;\n",
              "      box-shadow: 0px 1px 3px 1px rgba(0, 0, 0, 0.15);\n",
              "      filter: drop-shadow(0px 1px 2px rgba(0, 0, 0, 0.3));\n",
              "      fill: #FFFFFF;\n",
              "    }\n",
              "  </style>\n",
              "\n",
              "    <script>\n",
              "      const buttonEl =\n",
              "        document.querySelector('#df-e2351363-6cc6-40a8-8e5c-9923cb4b8972 button.colab-df-convert');\n",
              "      buttonEl.style.display =\n",
              "        google.colab.kernel.accessAllowed ? 'block' : 'none';\n",
              "\n",
              "      async function convertToInteractive(key) {\n",
              "        const element = document.querySelector('#df-e2351363-6cc6-40a8-8e5c-9923cb4b8972');\n",
              "        const dataTable =\n",
              "          await google.colab.kernel.invokeFunction('convertToInteractive',\n",
              "                                                    [key], {});\n",
              "        if (!dataTable) return;\n",
              "\n",
              "        const docLinkHtml = 'Like what you see? Visit the ' +\n",
              "          '<a target=\"_blank\" href=https://colab.research.google.com/notebooks/data_table.ipynb>data table notebook</a>'\n",
              "          + ' to learn more about interactive tables.';\n",
              "        element.innerHTML = '';\n",
              "        dataTable['output_type'] = 'display_data';\n",
              "        await google.colab.output.renderOutput(dataTable, element);\n",
              "        const docLink = document.createElement('div');\n",
              "        docLink.innerHTML = docLinkHtml;\n",
              "        element.appendChild(docLink);\n",
              "      }\n",
              "    </script>\n",
              "  </div>\n",
              "\n",
              "\n",
              "<div id=\"df-f7cbef56-e700-4e5b-a989-9a1bd00161a8\">\n",
              "  <button class=\"colab-df-quickchart\" onclick=\"quickchart('df-f7cbef56-e700-4e5b-a989-9a1bd00161a8')\"\n",
              "            title=\"Suggest charts\"\n",
              "            style=\"display:none;\">\n",
              "\n",
              "<svg xmlns=\"http://www.w3.org/2000/svg\" height=\"24px\"viewBox=\"0 0 24 24\"\n",
              "     width=\"24px\">\n",
              "    <g>\n",
              "        <path d=\"M19 3H5c-1.1 0-2 .9-2 2v14c0 1.1.9 2 2 2h14c1.1 0 2-.9 2-2V5c0-1.1-.9-2-2-2zM9 17H7v-7h2v7zm4 0h-2V7h2v10zm4 0h-2v-4h2v4z\"/>\n",
              "    </g>\n",
              "</svg>\n",
              "  </button>\n",
              "\n",
              "<style>\n",
              "  .colab-df-quickchart {\n",
              "      --bg-color: #E8F0FE;\n",
              "      --fill-color: #1967D2;\n",
              "      --hover-bg-color: #E2EBFA;\n",
              "      --hover-fill-color: #174EA6;\n",
              "      --disabled-fill-color: #AAA;\n",
              "      --disabled-bg-color: #DDD;\n",
              "  }\n",
              "\n",
              "  [theme=dark] .colab-df-quickchart {\n",
              "      --bg-color: #3B4455;\n",
              "      --fill-color: #D2E3FC;\n",
              "      --hover-bg-color: #434B5C;\n",
              "      --hover-fill-color: #FFFFFF;\n",
              "      --disabled-bg-color: #3B4455;\n",
              "      --disabled-fill-color: #666;\n",
              "  }\n",
              "\n",
              "  .colab-df-quickchart {\n",
              "    background-color: var(--bg-color);\n",
              "    border: none;\n",
              "    border-radius: 50%;\n",
              "    cursor: pointer;\n",
              "    display: none;\n",
              "    fill: var(--fill-color);\n",
              "    height: 32px;\n",
              "    padding: 0;\n",
              "    width: 32px;\n",
              "  }\n",
              "\n",
              "  .colab-df-quickchart:hover {\n",
              "    background-color: var(--hover-bg-color);\n",
              "    box-shadow: 0 1px 2px rgba(60, 64, 67, 0.3), 0 1px 3px 1px rgba(60, 64, 67, 0.15);\n",
              "    fill: var(--button-hover-fill-color);\n",
              "  }\n",
              "\n",
              "  .colab-df-quickchart-complete:disabled,\n",
              "  .colab-df-quickchart-complete:disabled:hover {\n",
              "    background-color: var(--disabled-bg-color);\n",
              "    fill: var(--disabled-fill-color);\n",
              "    box-shadow: none;\n",
              "  }\n",
              "\n",
              "  .colab-df-spinner {\n",
              "    border: 2px solid var(--fill-color);\n",
              "    border-color: transparent;\n",
              "    border-bottom-color: var(--fill-color);\n",
              "    animation:\n",
              "      spin 1s steps(1) infinite;\n",
              "  }\n",
              "\n",
              "  @keyframes spin {\n",
              "    0% {\n",
              "      border-color: transparent;\n",
              "      border-bottom-color: var(--fill-color);\n",
              "      border-left-color: var(--fill-color);\n",
              "    }\n",
              "    20% {\n",
              "      border-color: transparent;\n",
              "      border-left-color: var(--fill-color);\n",
              "      border-top-color: var(--fill-color);\n",
              "    }\n",
              "    30% {\n",
              "      border-color: transparent;\n",
              "      border-left-color: var(--fill-color);\n",
              "      border-top-color: var(--fill-color);\n",
              "      border-right-color: var(--fill-color);\n",
              "    }\n",
              "    40% {\n",
              "      border-color: transparent;\n",
              "      border-right-color: var(--fill-color);\n",
              "      border-top-color: var(--fill-color);\n",
              "    }\n",
              "    60% {\n",
              "      border-color: transparent;\n",
              "      border-right-color: var(--fill-color);\n",
              "    }\n",
              "    80% {\n",
              "      border-color: transparent;\n",
              "      border-right-color: var(--fill-color);\n",
              "      border-bottom-color: var(--fill-color);\n",
              "    }\n",
              "    90% {\n",
              "      border-color: transparent;\n",
              "      border-bottom-color: var(--fill-color);\n",
              "    }\n",
              "  }\n",
              "</style>\n",
              "\n",
              "  <script>\n",
              "    async function quickchart(key) {\n",
              "      const quickchartButtonEl =\n",
              "        document.querySelector('#' + key + ' button');\n",
              "      quickchartButtonEl.disabled = true;  // To prevent multiple clicks.\n",
              "      quickchartButtonEl.classList.add('colab-df-spinner');\n",
              "      try {\n",
              "        const charts = await google.colab.kernel.invokeFunction(\n",
              "            'suggestCharts', [key], {});\n",
              "      } catch (error) {\n",
              "        console.error('Error during call to suggestCharts:', error);\n",
              "      }\n",
              "      quickchartButtonEl.classList.remove('colab-df-spinner');\n",
              "      quickchartButtonEl.classList.add('colab-df-quickchart-complete');\n",
              "    }\n",
              "    (() => {\n",
              "      let quickchartButtonEl =\n",
              "        document.querySelector('#df-f7cbef56-e700-4e5b-a989-9a1bd00161a8 button');\n",
              "      quickchartButtonEl.style.display =\n",
              "        google.colab.kernel.accessAllowed ? 'block' : 'none';\n",
              "    })();\n",
              "  </script>\n",
              "</div>\n",
              "\n",
              "  <div id=\"id_ee116521-cb28-4aa8-a126-4a5dfb96d896\">\n",
              "    <style>\n",
              "      .colab-df-generate {\n",
              "        background-color: #E8F0FE;\n",
              "        border: none;\n",
              "        border-radius: 50%;\n",
              "        cursor: pointer;\n",
              "        display: none;\n",
              "        fill: #1967D2;\n",
              "        height: 32px;\n",
              "        padding: 0 0 0 0;\n",
              "        width: 32px;\n",
              "      }\n",
              "\n",
              "      .colab-df-generate:hover {\n",
              "        background-color: #E2EBFA;\n",
              "        box-shadow: 0px 1px 2px rgba(60, 64, 67, 0.3), 0px 1px 3px 1px rgba(60, 64, 67, 0.15);\n",
              "        fill: #174EA6;\n",
              "      }\n",
              "\n",
              "      [theme=dark] .colab-df-generate {\n",
              "        background-color: #3B4455;\n",
              "        fill: #D2E3FC;\n",
              "      }\n",
              "\n",
              "      [theme=dark] .colab-df-generate:hover {\n",
              "        background-color: #434B5C;\n",
              "        box-shadow: 0px 1px 3px 1px rgba(0, 0, 0, 0.15);\n",
              "        filter: drop-shadow(0px 1px 2px rgba(0, 0, 0, 0.3));\n",
              "        fill: #FFFFFF;\n",
              "      }\n",
              "    </style>\n",
              "    <button class=\"colab-df-generate\" onclick=\"generateWithVariable('stock_data')\"\n",
              "            title=\"Generate code using this dataframe.\"\n",
              "            style=\"display:none;\">\n",
              "\n",
              "  <svg xmlns=\"http://www.w3.org/2000/svg\" height=\"24px\"viewBox=\"0 0 24 24\"\n",
              "       width=\"24px\">\n",
              "    <path d=\"M7,19H8.4L18.45,9,17,7.55,7,17.6ZM5,21V16.75L18.45,3.32a2,2,0,0,1,2.83,0l1.4,1.43a1.91,1.91,0,0,1,.58,1.4,1.91,1.91,0,0,1-.58,1.4L9.25,21ZM18.45,9,17,7.55Zm-12,3A5.31,5.31,0,0,0,4.9,8.1,5.31,5.31,0,0,0,1,6.5,5.31,5.31,0,0,0,4.9,4.9,5.31,5.31,0,0,0,6.5,1,5.31,5.31,0,0,0,8.1,4.9,5.31,5.31,0,0,0,12,6.5,5.46,5.46,0,0,0,6.5,12Z\"/>\n",
              "  </svg>\n",
              "    </button>\n",
              "    <script>\n",
              "      (() => {\n",
              "      const buttonEl =\n",
              "        document.querySelector('#id_ee116521-cb28-4aa8-a126-4a5dfb96d896 button.colab-df-generate');\n",
              "      buttonEl.style.display =\n",
              "        google.colab.kernel.accessAllowed ? 'block' : 'none';\n",
              "\n",
              "      buttonEl.onclick = () => {\n",
              "        google.colab.notebook.generateWithVariable('stock_data');\n",
              "      }\n",
              "      })();\n",
              "    </script>\n",
              "  </div>\n",
              "\n",
              "    </div>\n",
              "  </div>\n"
            ],
            "application/vnd.google.colaboratory.intrinsic+json": {
              "type": "dataframe",
              "variable_name": "stock_data",
              "summary": "{\n  \"name\": \"stock_data\",\n  \"rows\": 5852,\n  \"fields\": [\n    {\n      \"column\": \"Date\",\n      \"properties\": {\n        \"dtype\": \"date\",\n        \"min\": \"2001-06-11 00:00:00\",\n        \"max\": \"2024-09-13 00:00:00\",\n        \"num_unique_values\": 5852,\n        \"samples\": [\n          \"2014-07-07 00:00:00\",\n          \"2012-11-15 00:00:00\",\n          \"2013-05-10 00:00:00\"\n        ],\n        \"semantic_type\": \"\",\n        \"description\": \"\"\n      }\n    },\n    {\n      \"column\": \"Open\",\n      \"properties\": {\n        \"dtype\": \"number\",\n        \"std\": 57.82898293507516,\n        \"min\": 0.23196400701999664,\n        \"max\": 236.47999572753906,\n        \"num_unique_values\": 5410,\n        \"samples\": [\n          0.25982099771499634,\n          4.368570804595947,\n          56.98249816894531\n        ],\n        \"semantic_type\": \"\",\n        \"description\": \"\"\n      }\n    },\n    {\n      \"column\": \"High\",\n      \"properties\": {\n        \"dtype\": \"number\",\n        \"std\": 58.44980086929173,\n        \"min\": 0.23553599417209625,\n        \"max\": 237.22999572753906,\n        \"num_unique_values\": 5351,\n        \"samples\": [\n          24.747499465942383,\n          3.4492859840393066,\n          0.4132139980792999\n        ],\n        \"semantic_type\": \"\",\n        \"description\": \"\"\n      }\n    },\n    {\n      \"column\": \"Low\",\n      \"properties\": {\n        \"dtype\": \"number\",\n        \"std\": 57.24755678595576,\n        \"min\": 0.22714300453662872,\n        \"max\": 233.08999633789062,\n        \"num_unique_values\": 5389,\n        \"samples\": [\n          18.638214111328125,\n          13.551786422729492,\n          183.77999877929688\n        ],\n        \"semantic_type\": \"\",\n        \"description\": \"\"\n      }\n    },\n    {\n      \"column\": \"Close\",\n      \"properties\": {\n        \"dtype\": \"number\",\n        \"std\": 57.87641483373815,\n        \"min\": 0.23428599536418915,\n        \"max\": 234.82000732421875,\n        \"num_unique_values\": 5427,\n        \"samples\": [\n          0.32124999165534973,\n          52.287498474121094,\n          3.424999952316284\n        ],\n        \"semantic_type\": \"\",\n        \"description\": \"\"\n      }\n    },\n    {\n      \"column\": \"Adj Close\",\n      \"properties\": {\n        \"dtype\": \"number\",\n        \"std\": 57.668398492597674,\n        \"min\": 0.19784873723983765,\n        \"max\": 234.54852294921875,\n        \"num_unique_values\": 5546,\n        \"samples\": [\n          176.4940643310547,\n          5.203776836395264,\n          32.969703674316406\n        ],\n        \"semantic_type\": \"\",\n        \"description\": \"\"\n      }\n    },\n    {\n      \"column\": \"Volume\",\n      \"properties\": {\n        \"dtype\": \"number\",\n        \"std\": 378280958,\n        \"min\": 24048300,\n        \"max\": 3372969600,\n        \"num_unique_values\": 5825,\n        \"samples\": [\n          279316800,\n          92633200,\n          316948800\n        ],\n        \"semantic_type\": \"\",\n        \"description\": \"\"\n      }\n    }\n  ]\n}"
            }
          },
          "metadata": {},
          "execution_count": 4
        }
      ]
    },
    {
      "cell_type": "code",
      "source": [
        "from sklearn.preprocessing import MinMaxScaler\n",
        "\n",
        "scaler = MinMaxScaler(feature_range=(0, 1))\n",
        "scaled_data = scaler.fit_transform(stock_data['Close'].values.reshape(-1,1))"
      ],
      "metadata": {
        "id": "7cKrqCzQIss8"
      },
      "execution_count": 5,
      "outputs": []
    },
    {
      "cell_type": "code",
      "source": [
        "import numpy as np\n",
        "\n",
        "def create_dataset(data, time_step):\n",
        "    X, y = [], []\n",
        "    for i in range(len(data) - time_step - 1):\n",
        "        X.append(data[i:(i + time_step), 0])\n",
        "        y.append(data[i + time_step, 0])\n",
        "    return np.array(X), np.array(y)"
      ],
      "metadata": {
        "id": "fV89a3_SIxkf"
      },
      "execution_count": 6,
      "outputs": []
    },
    {
      "cell_type": "code",
      "source": [
        "time_step = 100\n",
        "X, y = create_dataset(scaled_data, time_step)\n",
        "\n",
        "train_size=0.8\n",
        "X_train, X_test = X[:int(X.shape[0]*train_size)], X[int(X.shape[0]*train_size):]\n",
        "y_train, y_test = y[:int(y.shape[0]*train_size)], y[int(y.shape[0]*train_size):]"
      ],
      "metadata": {
        "id": "en5ZWrAJI0ma"
      },
      "execution_count": 7,
      "outputs": []
    },
    {
      "cell_type": "code",
      "source": [
        "from keras.models import Sequential\n",
        "from keras.layers import LSTM, Dense\n",
        "\n",
        "model = Sequential()\n",
        "model.add(LSTM(units=64, return_sequences=True, input_shape=(time_step, 1)))\n",
        "model.add(LSTM(units=64))\n",
        "model.add(Dense(units=64))\n",
        "model.add(Dense(units=1))"
      ],
      "metadata": {
        "id": "kAHxBHelI5nd",
        "colab": {
          "base_uri": "https://localhost:8080/",
          "height": 0
        },
        "outputId": "17a5730f-d22b-49a5-cfb8-61b22365485a"
      },
      "execution_count": 8,
      "outputs": [
        {
          "output_type": "stream",
          "name": "stderr",
          "text": [
            "/usr/local/lib/python3.10/dist-packages/keras/src/layers/rnn/rnn.py:204: UserWarning: Do not pass an `input_shape`/`input_dim` argument to a layer. When using Sequential models, prefer using an `Input(shape)` object as the first layer in the model instead.\n",
            "  super().__init__(**kwargs)\n"
          ]
        }
      ]
    },
    {
      "cell_type": "code",
      "source": [
        "model.compile(optimizer='adam', loss='mean_squared_error')\n",
        "model.fit(X_train, y_train, epochs=10, batch_size=64)"
      ],
      "metadata": {
        "colab": {
          "base_uri": "https://localhost:8080/",
          "height": 0
        },
        "id": "YBJB-r1tI9us",
        "outputId": "2927bd1c-cd16-4762-ede0-2d81ac056901"
      },
      "execution_count": 9,
      "outputs": [
        {
          "output_type": "stream",
          "name": "stdout",
          "text": [
            "Epoch 1/10\n",
            "\u001b[1m72/72\u001b[0m \u001b[32m━━━━━━━━━━━━━━━━━━━━\u001b[0m\u001b[37m\u001b[0m \u001b[1m13s\u001b[0m 135ms/step - loss: 0.0018\n",
            "Epoch 2/10\n",
            "\u001b[1m72/72\u001b[0m \u001b[32m━━━━━━━━━━━━━━━━━━━━\u001b[0m\u001b[37m\u001b[0m \u001b[1m10s\u001b[0m 139ms/step - loss: 1.4287e-05\n",
            "Epoch 3/10\n",
            "\u001b[1m72/72\u001b[0m \u001b[32m━━━━━━━━━━━━━━━━━━━━\u001b[0m\u001b[37m\u001b[0m \u001b[1m9s\u001b[0m 125ms/step - loss: 1.5096e-05\n",
            "Epoch 4/10\n",
            "\u001b[1m72/72\u001b[0m \u001b[32m━━━━━━━━━━━━━━━━━━━━\u001b[0m\u001b[37m\u001b[0m \u001b[1m10s\u001b[0m 118ms/step - loss: 1.5499e-05\n",
            "Epoch 5/10\n",
            "\u001b[1m72/72\u001b[0m \u001b[32m━━━━━━━━━━━━━━━━━━━━\u001b[0m\u001b[37m\u001b[0m \u001b[1m10s\u001b[0m 140ms/step - loss: 1.3291e-05\n",
            "Epoch 6/10\n",
            "\u001b[1m72/72\u001b[0m \u001b[32m━━━━━━━━━━━━━━━━━━━━\u001b[0m\u001b[37m\u001b[0m \u001b[1m10s\u001b[0m 139ms/step - loss: 1.2771e-05\n",
            "Epoch 7/10\n",
            "\u001b[1m72/72\u001b[0m \u001b[32m━━━━━━━━━━━━━━━━━━━━\u001b[0m\u001b[37m\u001b[0m \u001b[1m9s\u001b[0m 118ms/step - loss: 1.3637e-05\n",
            "Epoch 8/10\n",
            "\u001b[1m72/72\u001b[0m \u001b[32m━━━━━━━━━━━━━━━━━━━━\u001b[0m\u001b[37m\u001b[0m \u001b[1m11s\u001b[0m 125ms/step - loss: 1.1321e-05\n",
            "Epoch 9/10\n",
            "\u001b[1m72/72\u001b[0m \u001b[32m━━━━━━━━━━━━━━━━━━━━\u001b[0m\u001b[37m\u001b[0m \u001b[1m11s\u001b[0m 142ms/step - loss: 1.2428e-05\n",
            "Epoch 10/10\n",
            "\u001b[1m72/72\u001b[0m \u001b[32m━━━━━━━━━━━━━━━━━━━━\u001b[0m\u001b[37m\u001b[0m \u001b[1m21s\u001b[0m 147ms/step - loss: 1.0987e-05\n"
          ]
        },
        {
          "output_type": "execute_result",
          "data": {
            "text/plain": [
              "<keras.src.callbacks.history.History at 0x79661ad74ca0>"
            ]
          },
          "metadata": {},
          "execution_count": 9
        }
      ]
    },
    {
      "cell_type": "code",
      "source": [
        "test_loss = model.evaluate(X_test, y_test)\n",
        "print('Test Loss:', test_loss)"
      ],
      "metadata": {
        "colab": {
          "base_uri": "https://localhost:8080/",
          "height": 0
        },
        "id": "YKXB5xd3JBNw",
        "outputId": "b185e648-079d-41ad-eb57-53332597aff1"
      },
      "execution_count": 10,
      "outputs": [
        {
          "output_type": "stream",
          "name": "stdout",
          "text": [
            "\u001b[1m36/36\u001b[0m \u001b[32m━━━━━━━━━━━━━━━━━━━━\u001b[0m\u001b[37m\u001b[0m \u001b[1m3s\u001b[0m 54ms/step - loss: 4.1796e-04\n",
            "Test Loss: 0.00047766283387318254\n"
          ]
        }
      ]
    },
    {
      "cell_type": "code",
      "source": [
        "predictions = model.predict(X_test)\n",
        "predictions = scaler.inverse_transform(predictions)"
      ],
      "metadata": {
        "colab": {
          "base_uri": "https://localhost:8080/",
          "height": 0
        },
        "id": "s0_8GQjxJDDd",
        "outputId": "d4bb77cf-43ed-4dcc-ef73-7160126629d3"
      },
      "execution_count": 11,
      "outputs": [
        {
          "output_type": "stream",
          "name": "stdout",
          "text": [
            "\u001b[1m36/36\u001b[0m \u001b[32m━━━━━━━━━━━━━━━━━━━━\u001b[0m\u001b[37m\u001b[0m \u001b[1m4s\u001b[0m 116ms/step\n"
          ]
        }
      ]
    },
    {
      "cell_type": "code",
      "source": [
        "original_data = stock_data['Close'].values\n",
        "predicted_data = np.empty_like(original_data)\n",
        "predicted_data[:] = np.nan\n",
        "predicted_data[-len(predictions):] = predictions.reshape(-1)"
      ],
      "metadata": {
        "id": "6du1NR6UJGB-"
      },
      "execution_count": 12,
      "outputs": []
    },
    {
      "cell_type": "code",
      "source": [
        "import matplotlib.pyplot as plt\n",
        "\n",
        "plt.plot(original_data, label='Original Data')\n",
        "plt.plot(predicted_data, label='Predicted Data')\n",
        "plt.legend()\n",
        "plt.show()"
      ],
      "metadata": {
        "colab": {
          "base_uri": "https://localhost:8080/",
          "height": 430
        },
        "id": "M63465ggWqGd",
        "outputId": "21a7e848-8522-4d97-dc44-35e39df31f76"
      },
      "execution_count": 13,
      "outputs": [
        {
          "output_type": "display_data",
          "data": {
            "text/plain": [
              "<Figure size 640x480 with 1 Axes>"
            ],
            "image/png": "[encoded data removed]"
          },
          "metadata": {}
        }
      ]
    },
    {
      "cell_type": "code",
      "source": [
        "new_predictions = model.predict(X_test[-90:])\n",
        "new_predictions = scaler.inverse_transform(new_predictions)\n",
        "\n",
        "predicted_data = np.append(predicted_data, new_predictions)\n",
        "predicted_data[-90:]"
      ],
      "metadata": {
        "id": "pCvpJRQkkTuK",
        "colab": {
          "base_uri": "https://localhost:8080/",
          "height": 0
        },
        "outputId": "4e1e2a48-2fdf-4874-e0eb-7f5b76064053"
      },
      "execution_count": 14,
      "outputs": [
        {
          "output_type": "stream",
          "name": "stdout",
          "text": [
            "\u001b[1m3/3\u001b[0m \u001b[32m━━━━━━━━━━━━━━━━━━━━\u001b[0m\u001b[37m\u001b[0m \u001b[1m0s\u001b[0m 47ms/step\n"
          ]
        },
        {
          "output_type": "execute_result",
          "data": {
            "text/plain": [
              "array([171.2403717 , 172.76028442, 174.45579529, 176.1867218 ,\n",
              "       177.95593262, 179.53213501, 181.10253906, 182.63502502,\n",
              "       184.19630432, 185.67855835, 187.01596069, 188.24830627,\n",
              "       189.41316223, 190.35432434, 190.81835938, 191.15133667,\n",
              "       191.35644531, 191.47930908, 191.60122681, 191.77157593,\n",
              "       192.07626343, 192.46379089, 192.98150635, 193.45239258,\n",
              "       194.02778625, 194.37127686, 195.4931488 , 197.40446472,\n",
              "       199.78712463, 202.21887207, 204.81846619, 207.18605042,\n",
              "       208.94880676, 210.06434631, 210.72250366, 211.08596802,\n",
              "       211.50088501, 211.95863342, 212.17741394, 212.64614868,\n",
              "       213.45423889, 214.50683594, 215.97059631, 217.69163513,\n",
              "       219.52597046, 221.60157776, 223.32162476, 224.91900635,\n",
              "       226.57069397, 228.15979004, 229.20576477, 229.53562927,\n",
              "       229.39161682, 228.90725708, 228.29206848, 227.18463135,\n",
              "       225.77627563, 224.28355408, 222.83782959, 221.5461731 ,\n",
              "       220.65232849, 219.8139801 , 219.18464661, 218.01602173,\n",
              "       216.47383118, 214.95446777, 213.76322937, 213.04795837,\n",
              "       212.77377319, 213.06210327, 213.7265625 , 214.80561829,\n",
              "       216.17356873, 217.63667297, 219.11763   , 220.50952148,\n",
              "       221.6317749 , 222.66815186, 223.59303284, 224.44158936,\n",
              "       225.07884216, 225.76301575, 226.36416626, 226.459198  ,\n",
              "       226.11103821, 225.59446716, 224.8805542 , 224.0909729 ,\n",
              "       223.24317932, 222.5818634 ])"
            ]
          },
          "metadata": {},
          "execution_count": 14
        }
      ]
    },
    {
      "cell_type": "code",
      "source": [
        "plt.plot(original_data, label='Original Data')\n",
        "plt.plot(predicted_data, label='Predicted Data')\n",
        "plt.legend()\n",
        "plt.show()"
      ],
      "metadata": {
        "colab": {
          "base_uri": "https://localhost:8080/",
          "height": 430
        },
        "id": "bF_6HIq7tGCt",
        "outputId": "597d7b02-cc02-4bd3-a310-3c7c9835c8ad"
      },
      "execution_count": 15,
      "outputs": [
        {
          "output_type": "display_data",
          "data": {
            "text/plain": [
              "<Figure size 640x480 with 1 Axes>"
            ],
            "image/png": "[encoded data removed]"
          },
          "metadata": {}
        }
      ]
    }
  ]
}